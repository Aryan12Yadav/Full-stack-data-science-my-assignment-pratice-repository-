{
 "cells": [
  {
   "cell_type": "markdown",
   "id": "8932f16f",
   "metadata": {},
   "source": [
    "# Constructor"
   ]
  },
  {
   "cell_type": "markdown",
   "id": "91fd0b42",
   "metadata": {},
   "source": [
    "##### 1. What is a constructor in Python? Explain its purpose and usage"
   ]
  },
  {
   "cell_type": "markdown",
   "id": "e9c94091",
   "metadata": {},
   "source": [
    "In Python, a constructor is a special method within a class that gets automatically called when you create an object (instance) of that class. The purpose of a constructor is to initialize the attributes of the object or perform any setup that is necessary before the object is ready for use."
   ]
  },
  {
   "cell_type": "markdown",
   "id": "db19b379",
   "metadata": {},
   "source": [
    "##### 2. Differentiate between a parameterless constructor and a parameterized constructor in Python"
   ]
  },
  {
   "cell_type": "code",
   "execution_count": 9,
   "id": "9b969c44",
   "metadata": {},
   "outputs": [
    {
     "data": {
      "text/plain": [
       "'this is the parametrilize funtion :'"
      ]
     },
     "execution_count": 9,
     "metadata": {},
     "output_type": "execute_result"
    }
   ],
   "source": [
    "# parameterilized constructor \n",
    "#  in this constructor the argument provide in the constructor \n",
    "\n",
    "\n",
    "class function:\n",
    "    def __init__(self,argue):\n",
    "        self.argue = argue\n",
    "cl = function(\"this is the parametrilize funtion :\")\n",
    "cl.argue\n"
   ]
  },
  {
   "cell_type": "code",
   "execution_count": 11,
   "id": "d8a49d56",
   "metadata": {},
   "outputs": [
    {
     "name": "stdout",
     "output_type": "stream",
     "text": [
      "parameter less constructor called here : \n"
     ]
    }
   ],
   "source": [
    "# parametriless constructor \n",
    "#  this will execute without the use of the any initialised parameter in the funtion\n",
    "class funtion2:\n",
    "    def __init__(self):\n",
    "        print(\"parameter less constructor called here : \")\n",
    "        pass\n",
    "c2 = funtion2()"
   ]
  },
  {
   "cell_type": "markdown",
   "id": "c89e039b",
   "metadata": {},
   "source": [
    "##### 3. How do you define a constructor in a Python class? Provide an example"
   ]
  },
  {
   "cell_type": "code",
   "execution_count": 12,
   "id": "b54f8863",
   "metadata": {},
   "outputs": [
    {
     "data": {
      "text/plain": [
       "'here i will define the use use constructor in the class '"
      ]
     },
     "execution_count": 12,
     "metadata": {},
     "output_type": "execute_result"
    }
   ],
   "source": [
    "class my_constr:\n",
    "    \n",
    "    def __init__(self,i):\n",
    "        self.i = i\n",
    "    def define(self):\n",
    "        return self.i\n",
    "defin = my_constr(\"here i will define the use use constructor in the class \")\n",
    "defin.define()"
   ]
  },
  {
   "cell_type": "markdown",
   "id": "c04837f0",
   "metadata": {},
   "source": [
    "##### 4. Explain the `__init__` method in Python and its role in constructors."
   ]
  },
  {
   "cell_type": "markdown",
   "id": "9d0afa3d",
   "metadata": {},
   "source": [
    "\n",
    "In Python, the __init__ method is a special method, also known as the initializer or constructor method. It is used to initialize objects of a class when they are created.\n",
    "\n",
    "The __init__ method is called automatically whenever a new instance (object) of a class is created. It is not mandatory to define an __init__ method in a class; however, it is a common practice and often essential for initializing instance variables or performing certain setup tasks when an object is instantiated.\n",
    "\n",
    "Key points about the __init__ method and its role in constructors:\n",
    "\n",
    "Initialization: Its primary purpose is to initialize the object's attributes or perform other setup operations needed for the object.\n",
    "\n",
    "Invocation: The __init__ method is automatically invoked when an object of the class is created using the class name followed by parentheses, similar to calling a function"
   ]
  },
  {
   "cell_type": "markdown",
   "id": "37fb5308",
   "metadata": {},
   "source": [
    "##### 5. In a class named `Person`, create a constructor that initializes the `name` and `age` attributes. Provide an \n",
    "example of creating an object of this class."
   ]
  },
  {
   "cell_type": "code",
   "execution_count": 16,
   "id": "c8666d75",
   "metadata": {},
   "outputs": [
    {
     "name": "stdout",
     "output_type": "stream",
     "text": [
      "the name is aryan and his age is 17\n"
     ]
    }
   ],
   "source": [
    "class Person : \n",
    "    \n",
    "    def __init__(self,name,age):\n",
    "        self.name = name\n",
    "        self.age = age\n",
    "p = Person(\"aryan\",\"17\")\n",
    "print(f\"the name is {p.name} and his age is {p.age}\")\n",
    "    "
   ]
  },
  {
   "cell_type": "markdown",
   "id": "7278ad09",
   "metadata": {},
   "source": [
    "# Inheritance"
   ]
  },
  {
   "cell_type": "markdown",
   "id": "2113c43d",
   "metadata": {},
   "source": [
    "##### 1. What is inheritance in Python? Explain its significance in object-oriented programmin"
   ]
  },
  {
   "cell_type": "markdown",
   "id": "2e2f7a43",
   "metadata": {},
   "source": [
    " Inheritance is a fundamental feature of object-oriented programming (OOP) in Python that allows a new class (called a subclass or derived class) to inherit properties and behaviors (attributes and methods) from another class (called a base class, parent class, or superclass). This concept forms an \"is-a\" relationship, where the subclass is a specialized version of the superclass."
   ]
  },
  {
   "cell_type": "markdown",
   "id": "787e1ba6",
   "metadata": {},
   "source": [
    "##### 2. Differentiate between single inheritance and multiple inheritance in Python. Provide examples for each."
   ]
  },
  {
   "cell_type": "code",
   "execution_count": 21,
   "id": "2305ffd1",
   "metadata": {},
   "outputs": [
    {
     "name": "stdout",
     "output_type": "stream",
     "text": [
      "this is my single class:   ok\n"
     ]
    }
   ],
   "source": [
    "# in single inheritance the superclass called in the subclass \n",
    "# example\n",
    "class inheritance:\n",
    "    def __init__(self):\n",
    "        pass\n",
    "    def object1(self):\n",
    "        print(\"this is the super class\")\n",
    "    \n",
    "class single_inher(inheritance):\n",
    "    \n",
    "    def object2(self,hostel):\n",
    "        print(\"this is my single class:  \",hostel)\n",
    "        \n",
    "        \n",
    "call = single_inher()\n",
    "call.object2(\"ok\")"
   ]
  },
  {
   "cell_type": "code",
   "execution_count": 35,
   "id": "35cba694",
   "metadata": {},
   "outputs": [
    {
     "name": "stdout",
     "output_type": "stream",
     "text": [
      "today is soup and it is delicious\n",
      "this is potato and this is good\n",
      "the fruit is apple and this is very tasty\n"
     ]
    },
    {
     "data": {
      "text/plain": [
       "'let me find some things in the  basket'"
      ]
     },
     "execution_count": 35,
     "metadata": {},
     "output_type": "execute_result"
    }
   ],
   "source": [
    "# multiple class  in this base or parent  classes are called in  the sub classes\n",
    "# example\n",
    "class basket():\n",
    "    \n",
    "    def __init__(self):\n",
    "        pass\n",
    "        \n",
    "    def fruits(self,fruit):\n",
    "        print(\"the fruit is \" +fruit+\" and this is very tasty\")\n",
    "\n",
    "class basket2:\n",
    "    \n",
    "    def __init__(self):\n",
    "        pass\n",
    "        \n",
    "    def vegetables(self,vegetable):\n",
    "        print(\"this is \"  +vegetable + \" and this is good\")\n",
    "        \n",
    "class call(basket,basket2):\n",
    "    \n",
    "    def __init__(self):\n",
    "        self.some = \"let me find some things in the  basket\"\n",
    "        \n",
    "    def basket3(self,food):\n",
    "        print(\"today is \"+ food +\" and it is delicious\")\n",
    "    \n",
    "run = call()\n",
    "run.basket3(\"soup\")\n",
    "run.some\n",
    "run.vegetables(\"potato\")\n",
    "run.fruits(\"apple\")\n",
    "run.some"
   ]
  },
  {
   "cell_type": "markdown",
   "id": "cab428a8",
   "metadata": {},
   "source": [
    "##### 3. Create a Python class called `Vehicle` with attributes `color` and `speed`. Then, create a child class called \n",
    "`Car` that inherits from `Vehicle` and adds a `brand` attribute. Provide an example of creating a `Car` object"
   ]
  },
  {
   "cell_type": "code",
   "execution_count": 41,
   "id": "616c34fd",
   "metadata": {},
   "outputs": [
    {
     "name": "stdout",
     "output_type": "stream",
     "text": [
      "('the vehicle color is ', 'black')\n",
      "the speed of the is  65 km/hr\n",
      "Brand of my car is  maruti suzuki\n"
     ]
    }
   ],
   "source": [
    "class Vehicle:\n",
    "    \n",
    "    def __init__(self):\n",
    "        pass\n",
    "    \n",
    "    def vehicle_color(self,color):\n",
    "        return \"the vehicle color is \",color\n",
    "    \n",
    "    def vehicle_speed(self,speed):\n",
    "        return speed\n",
    "    \n",
    "class Car(Vehicle):\n",
    "     \n",
    "        def __init__(self):\n",
    "            pass\n",
    "        \n",
    "        def my_car_brand(self,brand):\n",
    "            return brand\n",
    "call = Car()\n",
    "print(call.vehicle_color(\"black\"))\n",
    "print(\"the speed of the is \",call.vehicle_speed(65),\"km/hr\")\n",
    "print(\"Brand of my car is \",call.my_car_brand(\"maruti suzuki\"))\n",
    "\n",
    "            \n",
    "        "
   ]
  },
  {
   "cell_type": "markdown",
   "id": "bd63d35f",
   "metadata": {},
   "source": [
    "##### 4. Explain the concept of method overriding in inheritance. Provide a practical example."
   ]
  },
  {
   "cell_type": "code",
   "execution_count": 58,
   "id": "c3127477",
   "metadata": {},
   "outputs": [
    {
     "data": {
      "text/plain": [
       "'print this is class B'"
      ]
     },
     "execution_count": 58,
     "metadata": {},
     "output_type": "execute_result"
    }
   ],
   "source": [
    "#  in the overiding concept the parent class are in called in subclass if the object of the both class\n",
    "# are same the subclass object will executed in the function \n",
    "class my_class:\n",
    "    \n",
    "    def show_result(self):\n",
    "        return \" print  this is class A \"\n",
    "    \n",
    "class other(my_class):\n",
    "    \n",
    "    def show_result(self):\n",
    "        return \"print this is class B\"\n",
    "    \n",
    "call = other()\n",
    "call.show_result() # this is the concept of overiding"
   ]
  },
  {
   "cell_type": "markdown",
   "id": "28960a51",
   "metadata": {},
   "source": [
    "##### 5. How can you access the methods and attributes of a parent class from a child class in Python? Give an \n",
    "example"
   ]
  },
  {
   "cell_type": "code",
   "execution_count": 95,
   "id": "83e0d2d8",
   "metadata": {},
   "outputs": [],
   "source": [
    "# We call the parent class in the child by using the super()\n",
    "class bicycle:\n",
    "    def __init__(self,color):\n",
    "        self.color = color\n",
    "    def show(self):\n",
    "        print(self.color)\n",
    "    \n",
    "class nw_bicycle(bicycle):\n",
    "    def __init__(self,color,price):\n",
    "        super().__init__(color)\n",
    "        self.price = price\n",
    "        \n",
    "    def show_Info(self):\n",
    "        super().show\n",
    "        print(self.price)\n",
    "        \n",
    "call = nw_bicycle(\"red\",8798)\n",
    "        \n",
    "    "
   ]
  },
  {
   "cell_type": "code",
   "execution_count": 96,
   "id": "cfd6ba72",
   "metadata": {},
   "outputs": [
    {
     "name": "stdout",
     "output_type": "stream",
     "text": [
      "red\n"
     ]
    }
   ],
   "source": [
    "call.show()"
   ]
  },
  {
   "cell_type": "code",
   "execution_count": 97,
   "id": "efe4e257",
   "metadata": {},
   "outputs": [
    {
     "name": "stdout",
     "output_type": "stream",
     "text": [
      "8798\n"
     ]
    }
   ],
   "source": [
    "call.show_Info()"
   ]
  },
  {
   "cell_type": "code",
   "execution_count": 98,
   "id": "20e2abae",
   "metadata": {},
   "outputs": [
    {
     "data": {
      "text/plain": [
       "'red'"
      ]
     },
     "execution_count": 98,
     "metadata": {},
     "output_type": "execute_result"
    }
   ],
   "source": [
    "call.color"
   ]
  },
  {
   "cell_type": "markdown",
   "id": "4f72077d",
   "metadata": {},
   "source": [
    "# encapsulation"
   ]
  },
  {
   "cell_type": "markdown",
   "id": "130ba55d",
   "metadata": {},
   "source": [
    "##### 1. Explain the concept of encapsulation in Python. What is its role in object-oriented programming?"
   ]
  },
  {
   "cell_type": "raw",
   "id": "5e298ada",
   "metadata": {},
   "source": [
    "Data Hiding: Encapsulation allows the internal representation of an object to be hidden from the outside. This means that the internal state of an object can't be directly accessed or modified by code outside the class.\n",
    "\n",
    "Access Control: Encapsulation also provides control over the access to the data. By using access modifiers such as public, private, and protected, you can determine which parts of the class are accessible from outside the class.\n",
    "\n",
    "1= Public: Methods and attributes that are accessible from outside the class.\n",
    "2 =Private: Methods and attributes that are accessible only from within the class. In Python, private attributes are denoted by using a double underscore __ prefix.\n",
    "Protected: Methods and attributes that are accessible within the class and its subclasses."
   ]
  },
  {
   "cell_type": "code",
   "execution_count": 5,
   "id": "785951de",
   "metadata": {},
   "outputs": [
    {
     "data": {
      "text/plain": [
       "'subji'"
      ]
     },
     "execution_count": 5,
     "metadata": {},
     "output_type": "execute_result"
    }
   ],
   "source": [
    "#  for  example\n",
    "class mess:\n",
    "    \n",
    "    def __init__(self,food,drinks):\n",
    "        self._food = food #         this is protected member \n",
    "        self.__drinks = drinks   # private member this will not be call in another sub class\n",
    "        \n",
    "    def data(self):\n",
    "        return self._food\n",
    "    def __sweets(self,sweet):\n",
    "        return sweet\n",
    "    def display(self):\n",
    "        return self.__drinks\n",
    "    \n",
    "    \n",
    "call = mess(\"subji\",\"milk\")\n",
    "call._food\n"
   ]
  },
  {
   "cell_type": "code",
   "execution_count": 7,
   "id": "bf176c32",
   "metadata": {},
   "outputs": [
    {
     "ename": "AttributeError",
     "evalue": "'mess' object has no attribute '__drinks'",
     "output_type": "error",
     "traceback": [
      "\u001b[1;31m---------------------------------------------------------------------------\u001b[0m",
      "\u001b[1;31mAttributeError\u001b[0m                            Traceback (most recent call last)",
      "Cell \u001b[1;32mIn[7], line 1\u001b[0m\n\u001b[1;32m----> 1\u001b[0m call\u001b[38;5;241m.\u001b[39m__drinks\n",
      "\u001b[1;31mAttributeError\u001b[0m: 'mess' object has no attribute '__drinks'"
     ]
    }
   ],
   "source": [
    "call.__drinks # this is private data "
   ]
  },
  {
   "cell_type": "code",
   "execution_count": 18,
   "id": "4ad167ea",
   "metadata": {},
   "outputs": [
    {
     "name": "stdout",
     "output_type": "stream",
     "text": [
      "milk\n",
      "milk\n"
     ]
    }
   ],
   "source": [
    "print(call.display())\n",
    "print(call._mess__drinks)"
   ]
  },
  {
   "cell_type": "code",
   "execution_count": 20,
   "id": "58c5e6d1",
   "metadata": {},
   "outputs": [
    {
     "data": {
      "text/plain": [
       "'jalebi'"
      ]
     },
     "execution_count": 20,
     "metadata": {},
     "output_type": "execute_result"
    }
   ],
   "source": [
    "call._mess__sweets(\"jalebi\")"
   ]
  },
  {
   "cell_type": "code",
   "execution_count": 21,
   "id": "ef8cab7a",
   "metadata": {},
   "outputs": [
    {
     "ename": "AttributeError",
     "evalue": "'mess' object has no attribute '__sweets'",
     "output_type": "error",
     "traceback": [
      "\u001b[1;31m---------------------------------------------------------------------------\u001b[0m",
      "\u001b[1;31mAttributeError\u001b[0m                            Traceback (most recent call last)",
      "Cell \u001b[1;32mIn[21], line 1\u001b[0m\n\u001b[1;32m----> 1\u001b[0m call\u001b[38;5;241m.\u001b[39m__sweets()\n",
      "\u001b[1;31mAttributeError\u001b[0m: 'mess' object has no attribute '__sweets'"
     ]
    }
   ],
   "source": [
    "call.__sweets()"
   ]
  },
  {
   "cell_type": "code",
   "execution_count": 14,
   "id": "c6dd5867",
   "metadata": {},
   "outputs": [
    {
     "ename": "AttributeError",
     "evalue": "'mess' object has no attribute '__drinks'",
     "output_type": "error",
     "traceback": [
      "\u001b[1;31m---------------------------------------------------------------------------\u001b[0m",
      "\u001b[1;31mAttributeError\u001b[0m                            Traceback (most recent call last)",
      "Cell \u001b[1;32mIn[14], line 1\u001b[0m\n\u001b[1;32m----> 1\u001b[0m call\u001b[38;5;241m.\u001b[39m__drinks\n",
      "\u001b[1;31mAttributeError\u001b[0m: 'mess' object has no attribute '__drinks'"
     ]
    }
   ],
   "source": [
    "call.__drinks"
   ]
  },
  {
   "cell_type": "code",
   "execution_count": 51,
   "id": "9adf00aa",
   "metadata": {},
   "outputs": [],
   "source": [
    "#  for  example\n",
    "class mess:\n",
    "    \n",
    "    def __init__(self,food,drinks):\n",
    "        self._food = food #         this is protected member \n",
    "        self.__drinks = drinks   # private member this will not be call in another sub class\n",
    "        \n",
    "    def data(self):\n",
    "        return self._food\n",
    "    def __sweets(self,sweet):\n",
    "        return sweet\n",
    "    def display(self):\n",
    "        return self.__drinks\n",
    "class swarn(mess):\n",
    "    \n",
    "    def calling(self):\n",
    "        return self._food\n",
    "    \n",
    "    def new_hostel(self): # this is only call by parent class or base class\n",
    "        return  self.__drinks\n",
    "        "
   ]
  },
  {
   "cell_type": "code",
   "execution_count": 52,
   "id": "c8dc6be0",
   "metadata": {},
   "outputs": [],
   "source": [
    "call = swarn(\"soup\",\"coldrinks\")"
   ]
  },
  {
   "cell_type": "code",
   "execution_count": 53,
   "id": "19052bdd",
   "metadata": {},
   "outputs": [
    {
     "ename": "AttributeError",
     "evalue": "'swarn' object has no attribute '_swarn__drinks'",
     "output_type": "error",
     "traceback": [
      "\u001b[1;31m---------------------------------------------------------------------------\u001b[0m",
      "\u001b[1;31mAttributeError\u001b[0m                            Traceback (most recent call last)",
      "Cell \u001b[1;32mIn[53], line 1\u001b[0m\n\u001b[1;32m----> 1\u001b[0m call\u001b[38;5;241m.\u001b[39mnew_hostel()\n",
      "Cell \u001b[1;32mIn[51], line 20\u001b[0m, in \u001b[0;36mswarn.new_hostel\u001b[1;34m(self)\u001b[0m\n\u001b[0;32m     19\u001b[0m \u001b[38;5;28;01mdef\u001b[39;00m \u001b[38;5;21mnew_hostel\u001b[39m(\u001b[38;5;28mself\u001b[39m): \u001b[38;5;66;03m# this is only call by parent class or base class\u001b[39;00m\n\u001b[1;32m---> 20\u001b[0m     \u001b[38;5;28;01mreturn\u001b[39;00m  \u001b[38;5;28mself\u001b[39m\u001b[38;5;241m.\u001b[39m__drinks\n",
      "\u001b[1;31mAttributeError\u001b[0m: 'swarn' object has no attribute '_swarn__drinks'"
     ]
    }
   ],
   "source": [
    "call.new_hostel()"
   ]
  },
  {
   "cell_type": "code",
   "execution_count": 54,
   "id": "72e0cddd",
   "metadata": {},
   "outputs": [
    {
     "data": {
      "text/plain": [
       "'soup'"
      ]
     },
     "execution_count": 54,
     "metadata": {},
     "output_type": "execute_result"
    }
   ],
   "source": [
    "call.calling()"
   ]
  },
  {
   "cell_type": "code",
   "execution_count": 58,
   "id": "8241aa8c",
   "metadata": {},
   "outputs": [
    {
     "data": {
      "text/plain": [
       "'coldrinks'"
      ]
     },
     "execution_count": 58,
     "metadata": {},
     "output_type": "execute_result"
    }
   ],
   "source": [
    "call._mess__drinks"
   ]
  },
  {
   "cell_type": "markdown",
   "id": "ee50e98b",
   "metadata": {},
   "source": [
    "##### 2. Describe the key principles of encapsulation, including access control and data hiding."
   ]
  },
  {
   "cell_type": "code",
   "execution_count": 70,
   "id": "c7b911f0",
   "metadata": {},
   "outputs": [],
   "source": [
    "# !jt -r"
   ]
  },
  {
   "cell_type": "code",
   "execution_count": 79,
   "id": "fbcc6c4f",
   "metadata": {},
   "outputs": [],
   "source": [
    "# !jt -l\n",
    "# "
   ]
  },
  {
   "cell_type": "code",
   "execution_count": 80,
   "id": "559fe898",
   "metadata": {},
   "outputs": [],
   "source": [
    "# !jt -t onedork"
   ]
  },
  {
   "cell_type": "raw",
   "id": "a5b66f66",
   "metadata": {},
   "source": [
    "In access control the given information of the data can be hide from unauthorized sub class or any \n",
    "other class  we can only accessible in only that class using the manupualtion \n",
    "\n",
    "using getter and setter method to hiding thee data "
   ]
  },
  {
   "cell_type": "markdown",
   "id": "120830f7",
   "metadata": {},
   "source": [
    "##### 3. How can you achieve encapsulation in Python classes? Provide an example"
   ]
  },
  {
   "cell_type": "code",
   "execution_count": 111,
   "id": "159ad4f0",
   "metadata": {},
   "outputs": [],
   "source": [
    "class AI:\n",
    "    \n",
    "    def __init__(self,result,grade):\n",
    "        \n",
    "        self._result = result\n",
    "        self.__my_grade = grade\n",
    "        \n",
    "    def roll_no(self,roll):\n",
    "        return roll ,self.__my_grade\n",
    "\n",
    "    def __display_info(self):\n",
    "        return self._result,self.__my_grade  \n",
    "\n",
    "class mechanical(AI):\n",
    "    \n",
    "    def see_info(self):\n",
    "        return self.__display_info()\n",
    "    def wants(self):\n",
    "        return self.__my_grade\n",
    "call = mechanical(\"aryan\",\"94 and A\")"
   ]
  },
  {
   "cell_type": "code",
   "execution_count": 112,
   "id": "0ac78265",
   "metadata": {},
   "outputs": [
    {
     "data": {
      "text/plain": [
       "('4127', '94 and A')"
      ]
     },
     "execution_count": 112,
     "metadata": {},
     "output_type": "execute_result"
    }
   ],
   "source": [
    "call.roll_no(\"4127\")"
   ]
  },
  {
   "cell_type": "code",
   "execution_count": 113,
   "id": "b0b2807d",
   "metadata": {},
   "outputs": [
    {
     "data": {
      "text/plain": [
       "'94 and A'"
      ]
     },
     "execution_count": 113,
     "metadata": {},
     "output_type": "execute_result"
    }
   ],
   "source": [
    "call._AI__my_grade"
   ]
  },
  {
   "cell_type": "code",
   "execution_count": 116,
   "id": "3e916f50",
   "metadata": {},
   "outputs": [
    {
     "data": {
      "text/plain": [
       "('aryan', '94 and A')"
      ]
     },
     "execution_count": 116,
     "metadata": {},
     "output_type": "execute_result"
    }
   ],
   "source": [
    "call._AI__display_info()"
   ]
  },
  {
   "cell_type": "code",
   "execution_count": 115,
   "id": "8151968b",
   "metadata": {},
   "outputs": [
    {
     "ename": "AttributeError",
     "evalue": "'mechanical' object has no attribute '_mechanical__display_info'",
     "output_type": "error",
     "traceback": [
      "\u001b[1;31m---------------------------------------------------------------------------\u001b[0m",
      "\u001b[1;31mAttributeError\u001b[0m                            Traceback (most recent call last)",
      "Cell \u001b[1;32mIn[115], line 1\u001b[0m\n\u001b[1;32m----> 1\u001b[0m call\u001b[38;5;241m.\u001b[39msee_info()\n",
      "Cell \u001b[1;32mIn[111], line 17\u001b[0m, in \u001b[0;36mmechanical.see_info\u001b[1;34m(self)\u001b[0m\n\u001b[0;32m     16\u001b[0m \u001b[38;5;28;01mdef\u001b[39;00m \u001b[38;5;21msee_info\u001b[39m(\u001b[38;5;28mself\u001b[39m):\n\u001b[1;32m---> 17\u001b[0m     \u001b[38;5;28;01mreturn\u001b[39;00m \u001b[38;5;28mself\u001b[39m\u001b[38;5;241m.\u001b[39m__display_info()\n",
      "\u001b[1;31mAttributeError\u001b[0m: 'mechanical' object has no attribute '_mechanical__display_info'"
     ]
    }
   ],
   "source": [
    "call.see_info()"
   ]
  },
  {
   "cell_type": "code",
   "execution_count": 110,
   "id": "bb8d5d9d",
   "metadata": {},
   "outputs": [
    {
     "ename": "AttributeError",
     "evalue": "'mechanical' object has no attribute '_mechanical__my_grade'",
     "output_type": "error",
     "traceback": [
      "\u001b[1;31m---------------------------------------------------------------------------\u001b[0m",
      "\u001b[1;31mAttributeError\u001b[0m                            Traceback (most recent call last)",
      "Cell \u001b[1;32mIn[110], line 1\u001b[0m\n\u001b[1;32m----> 1\u001b[0m call\u001b[38;5;241m.\u001b[39mwants()\n",
      "Cell \u001b[1;32mIn[100], line 19\u001b[0m, in \u001b[0;36mmechanical.wants\u001b[1;34m(self)\u001b[0m\n\u001b[0;32m     18\u001b[0m \u001b[38;5;28;01mdef\u001b[39;00m \u001b[38;5;21mwants\u001b[39m(\u001b[38;5;28mself\u001b[39m):\n\u001b[1;32m---> 19\u001b[0m     \u001b[38;5;28;01mreturn\u001b[39;00m \u001b[38;5;28mself\u001b[39m\u001b[38;5;241m.\u001b[39m__my_grade\n",
      "\u001b[1;31mAttributeError\u001b[0m: 'mechanical' object has no attribute '_mechanical__my_grade'"
     ]
    }
   ],
   "source": [
    "call.wants()"
   ]
  },
  {
   "cell_type": "markdown",
   "id": "ff4ff86d",
   "metadata": {},
   "source": [
    "##### 4. Discuss the difference between public, private, and protected access modifiers in Python`5"
   ]
  },
  {
   "cell_type": "code",
   "execution_count": 5,
   "id": "fa247f6d",
   "metadata": {},
   "outputs": [
    {
     "data": {
      "text/plain": [
       "('aryan', 4, 'csjma')"
      ]
     },
     "execution_count": 5,
     "metadata": {},
     "output_type": "execute_result"
    }
   ],
   "source": [
    "class my_class: \n",
    "    def __init__(self,name,clas,roll):\n",
    "        self.my_name = name\n",
    "        self._mycls = clas\n",
    "        self.__myroll = roll\n",
    "        \n",
    "    def display(self):\n",
    "        return self.my_name , self._mycls , self.__myroll\n",
    "class other_class(my_class):\n",
    "    def show_info(self):\n",
    "        return self.__myroll\n",
    "    \n",
    "call = my_class(\"aryan\",4,\"csjma\")\n",
    "call.display()"
   ]
  },
  {
   "cell_type": "markdown",
   "id": "52719bf5",
   "metadata": {},
   "source": [
    "##### 5. Create a Python class called `Person` with a private attribute `__name`. Provide methods to get and set the \n",
    "name attribute"
   ]
  },
  {
   "cell_type": "code",
   "execution_count": 13,
   "id": "4d45f5db",
   "metadata": {},
   "outputs": [],
   "source": [
    "class Person: \n",
    "     \n",
    "    def __init__(self,name,surname):\n",
    "        self.__name = name\n",
    "        self.surname = surname\n",
    "        \n",
    "    def dispaly(self):\n",
    "        return self.__name\n",
    "    \n",
    "    def __dis(self):\n",
    "        return self.surname\n",
    "\n",
    "call = Person(\"Aryan\",\"yadav\")"
   ]
  },
  {
   "cell_type": "code",
   "execution_count": 14,
   "id": "4c1329e3",
   "metadata": {},
   "outputs": [
    {
     "data": {
      "text/plain": [
       "'Aryan'"
      ]
     },
     "execution_count": 14,
     "metadata": {},
     "output_type": "execute_result"
    }
   ],
   "source": [
    "call.dispaly()"
   ]
  },
  {
   "cell_type": "code",
   "execution_count": 15,
   "id": "fa2b2843",
   "metadata": {},
   "outputs": [
    {
     "data": {
      "text/plain": [
       "'yadav'"
      ]
     },
     "execution_count": 15,
     "metadata": {},
     "output_type": "execute_result"
    }
   ],
   "source": [
    "call._Person__dis()"
   ]
  },
  {
   "cell_type": "markdown",
   "id": "34173ae1",
   "metadata": {},
   "source": [
    "##### 6. Explain the purpose of getter and setter methods in encapsulation. Provide examples."
   ]
  },
  {
   "cell_type": "code",
   "execution_count": 44,
   "id": "5e25f7bf",
   "metadata": {},
   "outputs": [
    {
     "name": "stdout",
     "output_type": "stream",
     "text": [
      "tang\n",
      "yes it is working\n"
     ]
    }
   ],
   "source": [
    "class Aryan :\n",
    "    __name = \"tang\"\n",
    "    def __init__(self):\n",
    "        print(self.__name)\n",
    "        self.__display() # here we call the private method\n",
    "    def __display(self):\n",
    "        print(\"yes it is working\")\n",
    "call = Aryan()\n"
   ]
  },
  {
   "cell_type": "code",
   "execution_count": 28,
   "id": "016b4cf4",
   "metadata": {},
   "outputs": [
    {
     "data": {
      "text/plain": [
       "'mumbai'"
      ]
     },
     "execution_count": 28,
     "metadata": {},
     "output_type": "execute_result"
    }
   ],
   "source": [
    "class uiet:\n",
    "    \n",
    "    def place(self,value):       # it works as a setter \n",
    "        self.__place = value\n",
    "        \n",
    "    def get_result(self,): # this works as a getter we can set the value and get the value\n",
    "         return self.__place\n",
    "        \n",
    "call=uiet()\n",
    "call.place(\"mumbai\") # value is setted mumbai\n",
    "call.get_result()"
   ]
  },
  {
   "cell_type": "code",
   "execution_count": 30,
   "id": "f0ca1a1a",
   "metadata": {},
   "outputs": [
    {
     "data": {
      "text/plain": [
       "'gujrat'"
      ]
     },
     "execution_count": 30,
     "metadata": {},
     "output_type": "execute_result"
    }
   ],
   "source": [
    "call.place(\"gujrat\")  # here i set the value\n",
    "call.get_result() # and here getting the value\n",
    "\n"
   ]
  },
  {
   "cell_type": "markdown",
   "id": "e51efc09",
   "metadata": {},
   "source": [
    "# Polymorphism"
   ]
  },
  {
   "cell_type": "markdown",
   "id": "241c1e58",
   "metadata": {},
   "source": [
    "##### 1. What is polymorphism in Python? Explain how it is related to object-oriented programming"
   ]
  },
  {
   "cell_type": "markdown",
   "id": "039f847f",
   "metadata": {},
   "source": [
    "\n",
    "Polymorphism is a fundamental concept in object-oriented programming (OOP) that allows objects of different classes to be treated as objects of a common superclass. It enables a single interface or method to be used for entities of different types."
   ]
  },
  {
   "cell_type": "code",
   "execution_count": 55,
   "id": "e0b20172",
   "metadata": {},
   "outputs": [
    {
     "name": "stdout",
     "output_type": "stream",
     "text": [
      "my name is  \n",
      "my name is prince\n",
      "my name is ankush\n"
     ]
    }
   ],
   "source": [
    "# Example \n",
    "# here in this code we use only one method or function \n",
    "class aryan:\n",
    "    def show_info(self,name = ' '):\n",
    "        return \"my name is \" + name\n",
    "obj = aryan()\n",
    "print(obj.show_info())\n",
    "print(obj.show_info(\"prince\"))\n",
    "print(obj.show_info(\"ankush\"))"
   ]
  },
  {
   "cell_type": "markdown",
   "id": "9437d13d",
   "metadata": {},
   "source": [
    "Compile-time Polymorphism (Static Binding): Also known as method overloading or function overloading, it refers to having multiple methods with the same name but different parameters within the same class. The correct method to be executed is determined by the number or types of parameters passed during compile-time."
   ]
  },
  {
   "cell_type": "code",
   "execution_count": 58,
   "id": "ef1acc85",
   "metadata": {},
   "outputs": [
    {
     "name": "stdout",
     "output_type": "stream",
     "text": [
      "[]\n",
      "[23, 53, 6, 'ar4yan']\n",
      "[3, 's']\n"
     ]
    }
   ],
   "source": [
    "# example \n",
    "#  this is concept of overloading and compile -time polymorhism \n",
    "# here we used one method parameter and get the multiple data output\n",
    "class btech: \n",
    "    \n",
    "    def show_info(self,argu = []):\n",
    "        return argu\n",
    "\n",
    "obj = btech()\n",
    "print(obj.show_info())\n",
    "print(obj.show_info([23,53,6,\"ar4yan\"]))\n",
    "print(obj.show_info([3,\"s\"]))"
   ]
  },
  {
   "cell_type": "markdown",
   "id": "e2ef22f0",
   "metadata": {},
   "source": [
    "##### 2. Describe the difference between compile-time polymorphism and runtime polymorphism in Python"
   ]
  },
  {
   "cell_type": "markdown",
   "id": "f9485d47",
   "metadata": {},
   "source": [
    "Run-time Polymorphism (Dynamic Binding): Also known as method overriding, it allows a subclass to provide a specific implementation of a method that is already defined in its superclass. The correct method to be executed is determined during runtime based on the actual object type."
   ]
  },
  {
   "cell_type": "code",
   "execution_count": 93,
   "id": "6700d112",
   "metadata": {},
   "outputs": [
    {
     "name": "stdout",
     "output_type": "stream",
     "text": [
      "the class will start from tuesday\n"
     ]
    },
    {
     "data": {
      "text/plain": [
       "'today the registration is done'"
      ]
     },
     "execution_count": 93,
     "metadata": {},
     "output_type": "execute_result"
    }
   ],
   "source": [
    "# example reated to run time polymorphism\n",
    "# here the concept of overiding we call the base class in the sub class by the use of super class \n",
    "# which have same method (info)\n",
    "\n",
    "class achieve:\n",
    "    \n",
    "    def info(self):\n",
    "        print(\"the class will start from tuesday\")# here return option will not work by calling in \n",
    "#                                                  super class of subclass\n",
    "class display(achieve):\n",
    "    \n",
    "    def info(self):\n",
    "        super().info()\n",
    "        return \"today the registration is done\"\n",
    "    \n",
    "obj = display()\n",
    "obj.info()"
   ]
  },
  {
   "cell_type": "markdown",
   "id": "667a04d0",
   "metadata": {},
   "source": [
    "##### 3. Create a Python class hierarchy for shapes (e.g., circle, square, triangle) and demonstrate polymorphism \n",
    " through a common method, such as `calculate_area()`."
   ]
  },
  {
   "cell_type": "code",
   "execution_count": 103,
   "id": "68d13755",
   "metadata": {},
   "outputs": [],
   "source": [
    "class shape_circle:\n",
    "    def __init__(self):\n",
    "        pass\n",
    "    def my_shape(self):\n",
    "        print(\"this is the circle .\")\n",
    "    \n",
    "class shape_square:\n",
    "    def __init__(self):\n",
    "        pass\n",
    "    def my_shape1(self):\n",
    "        print(\"the  given shape is square\")\n",
    "        \n",
    "class shape_triangle:\n",
    "    \n",
    "    def __init__(self):\n",
    "        pass \n",
    "    def my_shape2(self):\n",
    "            print(\" the shape is triangle \")\n",
    "class display(shape_circle,shape_square,shape_triangle):\n",
    "    def __init__(self):\n",
    "        pass \n",
    "    def display_info(self):\n",
    "        super().my_shape()\n",
    "        super().my_shape1()\n",
    "        super().my_shape2()\n",
    "        \n",
    "        return \"thus , it is the required result\""
   ]
  },
  {
   "cell_type": "code",
   "execution_count": 104,
   "id": "39ec8ec2",
   "metadata": {},
   "outputs": [
    {
     "name": "stdout",
     "output_type": "stream",
     "text": [
      "this is the circle .\n",
      "the  given shape is square\n",
      " the shape is triangle \n"
     ]
    },
    {
     "data": {
      "text/plain": [
       "'thus , it is the required result'"
      ]
     },
     "execution_count": 104,
     "metadata": {},
     "output_type": "execute_result"
    }
   ],
   "source": [
    "obj = display()\n",
    "obj.display_info()"
   ]
  },
  {
   "cell_type": "code",
   "execution_count": 6,
   "id": "6b51bce3",
   "metadata": {},
   "outputs": [
    {
     "name": "stdout",
     "output_type": "stream",
     "text": [
      "Enter the radius :5\n",
      "Enter the side: 64\n",
      "Enter the base:66\n",
      "Enter the height:4\n",
      "the area of circle is : 78.53981633974483\n",
      "the are of given square is  256\n",
      "the area of triangle is : 132.0\n"
     ]
    }
   ],
   "source": [
    "#   good method\n",
    "import math\n",
    "class shape:\n",
    "    def area_of_shape(self):\n",
    "        pass\n",
    "    \n",
    "class triangle(shape):\n",
    "    def __init__(self,base,height):\n",
    "        self.base = base\n",
    "        self.height = height\n",
    "    def area_of_shape(self):\n",
    "        return 0.5*self.base*self.height\n",
    "    \n",
    "class circle(shape):\n",
    "    def __init__(self,radius):\n",
    "        self.radius  = radius\n",
    "    def area_of_shape(self):\n",
    "        return math.pi*self.radius*self.radius\n",
    "    \n",
    "class square(shape):\n",
    "    def __init__(self,side):\n",
    "        self.side = side\n",
    "    \n",
    "    def area_of_shape(self):\n",
    "        return self.side*4\n",
    "    \n",
    "circle = circle(int(input(\"Enter the radius :\" )))\n",
    "square = square(int(input(\"Enter the side: \")))\n",
    "triangle = triangle(int(input(\"Enter the base:\")),int(input(\"Enter the height:\")))\n",
    "print(\"the area of circle is :\" ,circle.area_of_shape())\n",
    "print(\"the are of given square is \",square.area_of_shape())\n",
    "print(\"the area of triangle is :\",triangle.area_of_shape())"
   ]
  },
  {
   "cell_type": "markdown",
   "id": "f6fb13fa",
   "metadata": {},
   "source": [
    "##### 5. How is polymorphism different from method overloading in Python? Provide examples for both."
   ]
  },
  {
   "cell_type": "markdown",
   "id": "c71ffa0a",
   "metadata": {},
   "source": [
    "##### 6. Create a Python class called `Animal` with a method `speak()`. Then, create child classes like `Dog`, `Cat`, and `Bird`, each with their own `speak()` method. Demonstrate polymorphism by calling the `speak()` method \n",
    "on objects of different subclasses."
   ]
  },
  {
   "cell_type": "code",
   "execution_count": 1,
   "id": "b99e6c65",
   "metadata": {},
   "outputs": [
    {
     "name": "stdout",
     "output_type": "stream",
     "text": [
      "meow>>>>>>\n",
      "doggi voice>>>>>\n",
      "chew>>>>>>\n"
     ]
    }
   ],
   "source": [
    "class Animal:\n",
    "    \n",
    "    def speak(self):\n",
    "        pass\n",
    "class Dog(Animal):\n",
    "    def __init__(self):\n",
    "        pass\n",
    "    def speak(self):\n",
    "        print(\"doggi voice>>>>>\")\n",
    "        \n",
    "class Cat(Animal):\n",
    "    \n",
    "    def __init__(self):\n",
    "        pass\n",
    "    def speak(self):\n",
    "        print(\"meow>>>>>>\")\n",
    "        \n",
    "class Bird(Animal):\n",
    "    \n",
    "    def __init__(self):\n",
    "        pass\n",
    "    def speak(self):\n",
    "        print(\"chew>>>>>>\")\n",
    "cat = Cat()\n",
    "dog = Dog()\n",
    "bird = Bird()\n",
    "\n",
    "cat.speak()\n",
    "dog.speak()\n",
    "bird.speak()"
   ]
  },
  {
   "cell_type": "markdown",
   "id": "8d8c8097",
   "metadata": {},
   "source": [
    "# Abstraction"
   ]
  },
  {
   "cell_type": "markdown",
   "id": "f84f0dd4",
   "metadata": {},
   "source": [
    "##### 1. What is abstraction in Python, and how does it relate to object-oriented programming?"
   ]
  },
  {
   "cell_type": "markdown",
   "id": "d832904a",
   "metadata": {},
   "source": [
    "In summary, abstraction in Python, within the realm of object-oriented programming, provides a way to manage complexity by emphasizing essential features while hiding implementation details. It allows for better structuring of code, improved maintainability, and the creation of more flexible and reusable software components."
   ]
  },
  {
   "cell_type": "code",
   "execution_count": 19,
   "id": "156c771a",
   "metadata": {},
   "outputs": [],
   "source": [
    "#  Example\n",
    "from abc import ABC ,abstractmethod   # full of ABC Is abstract base class\n",
    "class Bank(ABC):      # here you focus to inherit the ABC \n",
    "    \n",
    "    def Head_of_bank(self):\n",
    "        pass\n",
    "    \n",
    "    @abstractmethod\n",
    "    def make_secure_site(self):\n",
    "        pass"
   ]
  },
  {
   "cell_type": "code",
   "execution_count": 23,
   "id": "9ab40297",
   "metadata": {},
   "outputs": [],
   "source": [
    "class employes(Bank):# employs works in the bank\n",
    "    \n",
    "    def employer_output(self):\n",
    "        return \"i have done the program.\"\n",
    "\n",
    "    \n",
    "    "
   ]
  },
  {
   "cell_type": "code",
   "execution_count": 24,
   "id": "5c283303",
   "metadata": {},
   "outputs": [
    {
     "ename": "TypeError",
     "evalue": "Can't instantiate abstract class employes with abstract method make_secure_site",
     "output_type": "error",
     "traceback": [
      "\u001b[1;31m---------------------------------------------------------------------------\u001b[0m",
      "\u001b[1;31mTypeError\u001b[0m                                 Traceback (most recent call last)",
      "Cell \u001b[1;32mIn[24], line 1\u001b[0m\n\u001b[1;32m----> 1\u001b[0m show \u001b[38;5;241m=\u001b[39m employes()\n",
      "\u001b[1;31mTypeError\u001b[0m: Can't instantiate abstract class employes with abstract method make_secure_site"
     ]
    }
   ],
   "source": [
    "show = employes()\n",
    "# because this is not done the head of bank work  that is to make secure site"
   ]
  },
  {
   "cell_type": "code",
   "execution_count": 25,
   "id": "282ccd57",
   "metadata": {},
   "outputs": [
    {
     "data": {
      "text/plain": [
       "'i have done the program.'"
      ]
     },
     "execution_count": 25,
     "metadata": {},
     "output_type": "execute_result"
    }
   ],
   "source": [
    "show.employer_output() "
   ]
  },
  {
   "cell_type": "markdown",
   "id": "1b6461c6",
   "metadata": {},
   "source": [
    "###### solution"
   ]
  },
  {
   "cell_type": "code",
   "execution_count": 46,
   "id": "42531a59",
   "metadata": {},
   "outputs": [],
   "source": [
    " #  Example\n",
    "from abc import ABC ,abstractmethod\n",
    "class Bank(ABC):      # here you focus to inherit the ABC \n",
    "    \n",
    "    def Head_of_bank(self):\n",
    "        pass\n",
    "    \n",
    "    @abstractmethod\n",
    "    \n",
    "    \n",
    "    def make_secure_site(self):\n",
    "        pass"
   ]
  },
  {
   "cell_type": "code",
   "execution_count": 49,
   "id": "f2a01963",
   "metadata": {},
   "outputs": [],
   "source": [
    "class employes(Bank):\n",
    "    \n",
    "    def make_secure_site(self):\n",
    "        return  \"https://aryanmakesitee.url.in.\"\n",
    "        \n",
    "    def employer_output(self):\n",
    "        return \"i have done my work sir \"\n"
   ]
  },
  {
   "cell_type": "code",
   "execution_count": 50,
   "id": "022d14fa",
   "metadata": {},
   "outputs": [],
   "source": [
    "show = employes()"
   ]
  },
  {
   "cell_type": "code",
   "execution_count": 51,
   "id": "e7adecb7",
   "metadata": {},
   "outputs": [
    {
     "data": {
      "text/plain": [
       "'https://aryanmakesitee.url.in.'"
      ]
     },
     "execution_count": 51,
     "metadata": {},
     "output_type": "execute_result"
    }
   ],
   "source": [
    "show.make_secure_site()"
   ]
  },
  {
   "cell_type": "code",
   "execution_count": 53,
   "id": "cb0f5b21",
   "metadata": {},
   "outputs": [
    {
     "data": {
      "text/plain": [
       "'i have done my work sir '"
      ]
     },
     "execution_count": 53,
     "metadata": {},
     "output_type": "execute_result"
    }
   ],
   "source": [
    "show.employer_output()"
   ]
  },
  {
   "cell_type": "markdown",
   "id": "324942f6",
   "metadata": {},
   "source": [
    "##### 2. Describe the benefits of abstraction in terms of code organization and complexity reduction."
   ]
  },
  {
   "cell_type": "markdown",
   "id": "5173f7ea",
   "metadata": {},
   "source": [
    "Firstly, it helps us write organised code that is easier to read and understand. This also means that our code is more efficient and less prone to errors. Additionally, abstraction helps us save time since we don’t have to worry about low-level details and can instead focus on the bigger picture."
   ]
  },
  {
   "cell_type": "markdown",
   "id": "64032bd8",
   "metadata": {},
   "source": [
    "##### 3. Create a Python class called `Shape` with an abstract method `calculate_area()`. Then, create child classes (e.g., `Circle`, `Rectangle`) that implement the `calculate_area()` method. Provide an example of \n",
    "using these classes."
   ]
  },
  {
   "cell_type": "code",
   "execution_count": 74,
   "id": "336b54ce",
   "metadata": {},
   "outputs": [],
   "source": [
    "from abc import ABC ,abstractmethod\n",
    "import math\n",
    "class Shape(ABC):\n",
    "    \n",
    "    def __init__(self):\n",
    "        pass\n",
    "    \n",
    "    @abstractmethod\n",
    "    def calculate_area(self):\n",
    "        pass\n",
    "    \n",
    "class Circle(Shape):\n",
    "    \n",
    "    def __init__(self,radius):\n",
    "        self.radius  = radius\n",
    "    \n",
    "    def calculate_area(self):\n",
    "        return \"the area of circle is : \" , int(math.pi*self.radius*self.radius)\n",
    "    \n",
    "class Rectangle(Shape):\n",
    "    \n",
    "    def __init__(self,length, breadth):\n",
    "        self.length = length\n",
    "        self.breadth = breadth\n",
    "    \n",
    "    def calculate_area(self):\n",
    "        return \"the area of rectangle is :\" ,self.length*self.breadth\n",
    "\n"
   ]
  },
  {
   "cell_type": "code",
   "execution_count": 75,
   "id": "abb806c1",
   "metadata": {},
   "outputs": [
    {
     "name": "stdout",
     "output_type": "stream",
     "text": [
      "Enter the radius :8\n",
      "Enter the length : 10\n",
      "Enter the breadth : 90\n"
     ]
    }
   ],
   "source": [
    "obj = Circle(int(input(\"Enter the radius :\")))\n",
    "rect = Rectangle(int(input(\"Enter the length : \")),int(input(\"Enter the breadth : \")))"
   ]
  },
  {
   "cell_type": "code",
   "execution_count": 76,
   "id": "b3a1eb26",
   "metadata": {},
   "outputs": [
    {
     "name": "stdout",
     "output_type": "stream",
     "text": [
      "('the area of circle is : ', 201)\n"
     ]
    },
    {
     "data": {
      "text/plain": [
       "('the area of rectangle is :', 900)"
      ]
     },
     "execution_count": 76,
     "metadata": {},
     "output_type": "execute_result"
    }
   ],
   "source": [
    "print(obj.calculate_area())\n",
    "rect.calculate_area()"
   ]
  },
  {
   "cell_type": "markdown",
   "id": "b8c38a4b",
   "metadata": {},
   "source": [
    "##### 4. Explain the concept of abstract classes in Python and how they are defined using the `abc` module. \n",
    " "
   ]
  },
  {
   "cell_type": "markdown",
   "id": "fc5fb08b",
   "metadata": {},
   "source": [
    "Purpose of Abstract Classes: Abstract classes promote a consistent structure by defining a common interface that concrete subclasses must follow. They enable code reuse and ensure that subclasses have certain methods implemented, enhancing maintainability and consistency in a codebase."
   ]
  },
  {
   "cell_type": "markdown",
   "id": "e60ecf06",
   "metadata": {},
   "source": [
    "##### 5. How do abstract classes differ from regular classes in Python? Discuss their use cases"
   ]
  },
  {
   "cell_type": "raw",
   "id": "ad780cb8",
   "metadata": {},
   "source": [
    "Use Cases:\n",
    "Abstract Classes: They are beneficial when you want to create a common interface for multiple classes, ensuring that specific methods are implemented by subclasses. They provide a way to enforce a certain structure while allowing flexibility in implementation.\n",
    "\n",
    "Regular Classes: They are suitable for creating standalone objects with their own defined behavior. These classes may or may not be part of an inheritance hierarchy and are used when you want concrete instances without the necessity of providing implementations for specific methods in subclasses.\n",
    "\n",
    "In summary, abstract classes focus on defining a structure that subclasses must adhere to, while regular classes are instantiated to create objects with defined attributes and methods. Choosing between them depends on whether you need a blueprint for other classes (abstract classes) or standalone objects with their own implementations (regular classes)."
   ]
  },
  {
   "cell_type": "code",
   "execution_count": 37,
   "id": "a570df14",
   "metadata": {},
   "outputs": [],
   "source": [
    "from abc import ABC , abstractmethod\n",
    "class AI(ABC):\n",
    "    def __init__(self):\n",
    "        pass\n",
    "    \n",
    "    @abstractmethod\n",
    "    def my_performance(self):\n",
    "        pass \n",
    "    \n",
    "class ISC(AI):\n",
    "    def __init__(self,score):\n",
    "        self.score = score\n",
    "        \n",
    "    def my_score(self):\n",
    "        return self.score\n",
    "    def my_performance(self):\n",
    "        return \"my score is average in isc\"\n",
    "    \n",
    "class Maths(AI):\n",
    "    \n",
    "    def __init__(self):\n",
    "        pass \n",
    "    def my_performance(self):\n",
    "            return \"i score better in maths \"\n",
    "    def my_score(self,score):\n",
    "#         self.score = score\n",
    "        return score\n",
    "obj = ISC(89)"
   ]
  },
  {
   "cell_type": "code",
   "execution_count": 38,
   "id": "66fdd1ee",
   "metadata": {},
   "outputs": [
    {
     "name": "stdout",
     "output_type": "stream",
     "text": [
      "89\n"
     ]
    },
    {
     "data": {
      "text/plain": [
       "'my score is average in isc'"
      ]
     },
     "execution_count": 38,
     "metadata": {},
     "output_type": "execute_result"
    }
   ],
   "source": [
    "print(obj.my_score())\n",
    "obj.my_performance()"
   ]
  },
  {
   "cell_type": "code",
   "execution_count": 39,
   "id": "befb7398",
   "metadata": {},
   "outputs": [
    {
     "name": "stdout",
     "output_type": "stream",
     "text": [
      "i score better in maths \n"
     ]
    },
    {
     "data": {
      "text/plain": [
       "4"
      ]
     },
     "execution_count": 39,
     "metadata": {},
     "output_type": "execute_result"
    }
   ],
   "source": [
    "obj2 = Maths()\n",
    "print(obj2.my_performance())\n",
    "obj2.my_score(4)"
   ]
  },
  {
   "cell_type": "markdown",
   "id": "43ac68f1",
   "metadata": {},
   "source": [
    "# composition"
   ]
  },
  {
   "cell_type": "markdown",
   "id": "7ff08e66",
   "metadata": {},
   "source": [
    "##### 1. Explain the concept of composition in Python and how it is used to build complex objects from simpler ones"
   ]
  },
  {
   "cell_type": "markdown",
   "id": "b25fbdea",
   "metadata": {},
   "source": [
    "Building Complex Objects: Composition enables the creation of more intricate and feature-rich objects by combining instances of simpler classes.\n",
    "\n",
    "Code Reusability and Modularity: It promotes code reusability by allowing individual components to be reused across different objects. It also enhances modularity as changes to one component generally do not impact the entire structure.\n",
    "\n",
    "Flexibility and Maintainability: Objects created through composition are often more flexible as they can easily swap out or modify their components without affecting the overall functionality. This promotes easier maintenance and scalability of codebases.\n",
    "\n",
    "Different from Inheritance: Unlike inheritance, where classes inherit behaviors and attributes, composition involves containing instances of other classes as attributes to build object relationships.\n",
    "\n",
    "Utilizing composition in Python leads to more flexible, maintainable, and modular code, offering a powerful way to create complex structures by combining simpler components or objects"
   ]
  },
  {
   "cell_type": "markdown",
   "id": "eb19c032",
   "metadata": {},
   "source": [
    "### Owned class"
   ]
  },
  {
   "cell_type": "code",
   "execution_count": 27,
   "id": "0361045e",
   "metadata": {},
   "outputs": [],
   "source": [
    "class Engine:\n",
    "\n",
    "    def __init__(self,capacity = 0):\n",
    "        self.capacity = capacity\n",
    "        \n",
    "    def printDetail(self):\n",
    "        print(\"the capacity of the engine is \" ,self.capacity)\n",
    "        \n",
    "class Tire:\n",
    "    \n",
    "    def __init__(self,tires = 0):\n",
    "        self.tires = tires\n",
    "        \n",
    "    def printDetail(self):\n",
    "        print(\"number of tires in car : \",self.tires)\n",
    "        \n",
    "class Door:\n",
    "    \n",
    "    def __init__(self,doors):\n",
    "        self.doors = doors\n",
    "        \n",
    "    def printDetail(self):\n",
    "        print(\"number os Doors in car : \",self.doors)\n"
   ]
  },
  {
   "cell_type": "markdown",
   "id": "bf2953c6",
   "metadata": {},
   "source": [
    "### Owner class"
   ]
  },
  {
   "cell_type": "code",
   "execution_count": 39,
   "id": "b70ad018",
   "metadata": {},
   "outputs": [],
   "source": [
    "        \n",
    "class Car:\n",
    "    \n",
    "    def __init__(self,color = '',capacity = 0, tires =0,doors=0):\n",
    "        self.color = color\n",
    "        self.tires = Tire(tires)\n",
    "        self.doors = Door(doors)\n",
    "        self.capacity = Engine(capacity)\n",
    "        \n",
    "    def printDetail(self):\n",
    "        print(self.color)\n",
    "        self.capacity.printDetail() \n",
    "        self.tires.printDetail()\n",
    "        self.doors.printDetail()\n",
    "      "
   ]
  },
  {
   "cell_type": "code",
   "execution_count": 40,
   "id": "5c217739",
   "metadata": {},
   "outputs": [],
   "source": [
    "obj = Car(\"white\",822,4,4)"
   ]
  },
  {
   "cell_type": "code",
   "execution_count": 41,
   "id": "c0bbdbb4",
   "metadata": {},
   "outputs": [
    {
     "name": "stdout",
     "output_type": "stream",
     "text": [
      "white\n",
      "the capacity of the engine is  822\n",
      "number of tires in car :  4\n",
      "number os Doors in car :  4\n"
     ]
    }
   ],
   "source": [
    "obj.printDetail()"
   ]
  },
  {
   "cell_type": "markdown",
   "id": "8410f74e",
   "metadata": {},
   "source": [
    "##### 2. Describe the difference between composition and inheritance in object-oriented programming"
   ]
  },
  {
   "cell_type": "raw",
   "id": "9569ab34",
   "metadata": {},
   "source": [
    "composition = the class which have similar relation  with all other class by emphasizing to\n",
    "use the \"has to \" compostion with the class whie \n",
    "\n",
    "Inheritance = the class focus on the base class and subclasses will inhereited in the subclasses \n",
    "by the compostion used to facilitate is \"is to \""
   ]
  },
  {
   "cell_type": "markdown",
   "id": "f75d5c60",
   "metadata": {},
   "source": [
    "##### 3. Create a Python class called `Author` with attributes for name and birthdate. Then, create a `Book` class \n",
    "that contains an instance of `Author` as a composition. Provide an example of creating a `Book` object"
   ]
  },
  {
   "cell_type": "code",
   "execution_count": 43,
   "id": "e8ddec1e",
   "metadata": {},
   "outputs": [
    {
     "data": {
      "text/plain": [
       "'physic'"
      ]
     },
     "execution_count": 43,
     "metadata": {},
     "output_type": "execute_result"
    }
   ],
   "source": [
    "class Author:\n",
    "    \n",
    "    def __init__(self,name,birthdate):\n",
    "        self.name = name \n",
    "        self.birthdate = birthdate\n",
    "        \n",
    "class Book:\n",
    "    \n",
    "    def __init__(self,bname,pageno,author):\n",
    "        self.bname = bname\n",
    "        self.pageno = pageno\n",
    "        self.author = author\n",
    "        \n",
    "obj = Author(\"newton\",1991)\n",
    "obj2 = Book(\"physic\",43,\"verma\")\n",
    "obj2.bname"
   ]
  },
  {
   "cell_type": "code",
   "execution_count": 44,
   "id": "dab58260",
   "metadata": {},
   "outputs": [
    {
     "name": "stdout",
     "output_type": "stream",
     "text": [
      "newton\n",
      "physic\n",
      "verma\n"
     ]
    }
   ],
   "source": [
    "print(obj.name)\n",
    "print(obj2.bname)\n",
    "print(obj2.author)"
   ]
  },
  {
   "cell_type": "markdown",
   "id": "913d6d81",
   "metadata": {},
   "source": [
    "##### 4. Discuss the benefits of using composition over inheritance in Python, especially in terms of code flexibility \n",
    "and reusability."
   ]
  },
  {
   "cell_type": "markdown",
   "id": "ebbae795",
   "metadata": {},
   "source": [
    "\n",
    "while inheritance has its uses, composition provides a more flexible and maintainable approach to building complex systems by focusing on assembling objects through relationships rather than building a hierarchy of classes. It promotes code reusability, easier maintenance, and better flexibility, especially in larger and evolving codebases."
   ]
  },
  {
   "cell_type": "code",
   "execution_count": null,
   "id": "a72f1707",
   "metadata": {},
   "outputs": [],
   "source": [
    "\n",
    "    "
   ]
  },
  {
   "cell_type": "code",
   "execution_count": null,
   "id": "b2791cb0",
   "metadata": {},
   "outputs": [],
   "source": [
    " "
   ]
  },
  {
   "cell_type": "code",
   "execution_count": null,
   "id": "d4991511",
   "metadata": {},
   "outputs": [],
   "source": []
  }
 ],
 "metadata": {
  "kernelspec": {
   "display_name": "Python 3 (ipykernel)",
   "language": "python",
   "name": "python3"
  },
  "language_info": {
   "codemirror_mode": {
    "name": "ipython",
    "version": 3
   },
   "file_extension": ".py",
   "mimetype": "text/x-python",
   "name": "python",
   "nbconvert_exporter": "python",
   "pygments_lexer": "ipython3",
   "version": "3.11.5"
  }
 },
 "nbformat": 4,
 "nbformat_minor": 5
}
