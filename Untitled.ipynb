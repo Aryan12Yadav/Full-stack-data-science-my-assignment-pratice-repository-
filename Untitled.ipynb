{
 "cells": [
  {
   "cell_type": "markdown",
   "id": "e261a66d",
   "metadata": {},
   "source": [
    "# Assignment 2 "
   ]
  },
  {
   "cell_type": "markdown",
   "id": "1eb57e3f",
   "metadata": {},
   "source": [
    "1. Write a program to reverse a string."
   ]
  },
  {
   "cell_type": "code",
   "execution_count": 1,
   "id": "897260b0",
   "metadata": {},
   "outputs": [
    {
     "name": "stdout",
     "output_type": "stream",
     "text": [
      "Enter the input :\n"
     ]
    },
    {
     "data": {
      "text/plain": [
       "''"
      ]
     },
     "execution_count": 1,
     "metadata": {},
     "output_type": "execute_result"
    }
   ],
   "source": [
    "a = str(input(\"Enter the input :\"))\n",
    "a[::-1]"
   ]
  },
  {
   "cell_type": "markdown",
   "id": "53dbc2a9",
   "metadata": {},
   "source": [
    "2. Check if a string is a palindrome."
   ]
  },
  {
   "cell_type": "code",
   "execution_count": 2,
   "id": "8906782a",
   "metadata": {},
   "outputs": [
    {
     "name": "stdout",
     "output_type": "stream",
     "text": [
      "enter user input : \n",
      "it is a palindrone :\n"
     ]
    }
   ],
   "source": [
    "a = str(input(\"enter user input : \"))\n",
    "b = a[::-1]\n",
    "if a == b:\n",
    "            print(\"it is a palindrone :\")\n",
    "else:\n",
    "            print(\"not a palindrone\")\n",
    "    "
   ]
  },
  {
   "cell_type": "markdown",
   "id": "db0638c9",
   "metadata": {},
   "source": [
    "3. Convert a string to uppercase."
   ]
  },
  {
   "cell_type": "code",
   "execution_count": 3,
   "id": "3e02bda2",
   "metadata": {},
   "outputs": [
    {
     "data": {
      "text/plain": [
       "'ARYAN SINGH PRAJAPTI'"
      ]
     },
     "execution_count": 3,
     "metadata": {},
     "output_type": "execute_result"
    }
   ],
   "source": [
    "a = \"aryan singh prajapti\"\n",
    "a.upper()"
   ]
  },
  {
   "cell_type": "markdown",
   "id": "4dd8f1ac",
   "metadata": {},
   "source": [
    "4 convert a string to lowercase:"
   ]
  },
  {
   "cell_type": "code",
   "execution_count": 4,
   "id": "4f18f4ff",
   "metadata": {},
   "outputs": [
    {
     "data": {
      "text/plain": [
       "'hello pw skills'"
      ]
     },
     "execution_count": 4,
     "metadata": {},
     "output_type": "execute_result"
    }
   ],
   "source": [
    "b = \"Hello Pw skills\"\n",
    "b.lower()"
   ]
  },
  {
   "cell_type": "markdown",
   "id": "fa21aace",
   "metadata": {},
   "source": [
    "5 . Count the number of vowels in a string."
   ]
  },
  {
   "cell_type": "code",
   "execution_count": 5,
   "id": "91cf2fa2",
   "metadata": {},
   "outputs": [
    {
     "name": "stdout",
     "output_type": "stream",
     "text": [
      "Enter the input :\n",
      "0\n"
     ]
    }
   ],
   "source": [
    "a= str(input(\"Enter the input :\"))\n",
    "vowels = 'aeiou'\n",
    "count= 0\n",
    "for i in a:\n",
    "    if i.lower() in vowels:\n",
    "        count = count+1\n",
    "print(count)"
   ]
  },
  {
   "cell_type": "markdown",
   "id": "4970679a",
   "metadata": {},
   "source": [
    " 6.Count the number of consonants in a string."
   ]
  },
  {
   "cell_type": "code",
   "execution_count": 6,
   "id": "b194e780",
   "metadata": {},
   "outputs": [
    {
     "name": "stdout",
     "output_type": "stream",
     "text": [
      "\n",
      "0\n"
     ]
    }
   ],
   "source": [
    "string = str(input())\n",
    "consonants = 'bcdfghjklmnpqrstvwxyz'\n",
    "count =0\n",
    "for i in string:\n",
    "    if i.lower() in consonants:\n",
    "        count= count+1\n",
    "print(count)\n"
   ]
  },
  {
   "cell_type": "markdown",
   "id": "5c712da7",
   "metadata": {},
   "source": [
    "Remove all whitespaces from a string."
   ]
  },
  {
   "cell_type": "code",
   "execution_count": 7,
   "id": "cbb7ccc4",
   "metadata": {},
   "outputs": [
    {
     "name": "stdout",
     "output_type": "stream",
     "text": [
      "Enter the input : \n"
     ]
    },
    {
     "data": {
      "text/plain": [
       "''"
      ]
     },
     "execution_count": 7,
     "metadata": {},
     "output_type": "execute_result"
    }
   ],
   "source": [
    "string = str(input(\"Enter the input : \"))\n",
    "string.replace(\" \",\"\")\n"
   ]
  },
  {
   "cell_type": "markdown",
   "id": "5bb6c21a",
   "metadata": {},
   "source": [
    "8 . Find the length of a string without using the `len()` function."
   ]
  },
  {
   "cell_type": "code",
   "execution_count": 24,
   "id": "afb5a58e",
   "metadata": {},
   "outputs": [
    {
     "name": "stdout",
     "output_type": "stream",
     "text": [
      "Enter the input : er sedgyt ert \n",
      "14\n"
     ]
    }
   ],
   "source": [
    "strn = str(input(\"Enter the input : \"))\n",
    "count = 0\n",
    "for l in strn:\n",
    "    count = count+1\n",
    "print(count)\n",
    "    "
   ]
  },
  {
   "cell_type": "markdown",
   "id": "093c364d",
   "metadata": {},
   "source": [
    "9. Check if a string contains a specific word."
   ]
  },
  {
   "cell_type": "code",
   "execution_count": 9,
   "id": "55588cbf",
   "metadata": {},
   "outputs": [
    {
     "name": "stdout",
     "output_type": "stream",
     "text": [
      "this string contain the specific word best\n"
     ]
    }
   ],
   "source": [
    "string = \"honesty is the best policy \"\n",
    "specific_word = \"best\"\n",
    "if specific_word in string:\n",
    "    print(f\"this string contain the specific word {specific_word}\")\n",
    "else:\n",
    "    print(f\"this string does not contain specific word{specific_word}\")"
   ]
  },
  {
   "cell_type": "markdown",
   "id": "7ee1cec9",
   "metadata": {},
   "source": [
    "10. Replace a word in a string with another word."
   ]
  },
  {
   "cell_type": "code",
   "execution_count": 10,
   "id": "eb2b5311",
   "metadata": {},
   "outputs": [
    {
     "data": {
      "text/plain": [
       "'hello I am learning python'"
      ]
     },
     "execution_count": 10,
     "metadata": {},
     "output_type": "execute_result"
    }
   ],
   "source": [
    "word = \"hello I am learning java\"\n",
    "word.replace(\"java\",\"python\")"
   ]
  },
  {
   "cell_type": "markdown",
   "id": "54cbf743",
   "metadata": {},
   "source": [
    "11. Count the occurrences of a word in a string."
   ]
  },
  {
   "cell_type": "code",
   "execution_count": 46,
   "id": "64d9710f",
   "metadata": {},
   "outputs": [
    {
     "name": "stdout",
     "output_type": "stream",
     "text": [
      "Enter the words : re jhg jk re\n",
      "Enter the words:re\n",
      "2\n"
     ]
    }
   ],
   "source": [
    "string = (input(\"Enter the words : \"))\n",
    "word = (input(\"Enter the words:\"))\n",
    "count = 0\n",
    "a = string.split(\" \")\n",
    "for i in range(0,len(a)):\n",
    "    if (word == a[i]):\n",
    "        count = count+1\n",
    "print(count)"
   ]
  },
  {
   "cell_type": "code",
   "execution_count": 12,
   "id": "98ba0842",
   "metadata": {},
   "outputs": [
    {
     "name": "stdout",
     "output_type": "stream",
     "text": [
      "Enter the words : \n",
      "Enter the words:\n",
      "0\n"
     ]
    }
   ],
   "source": [
    "string = (input(\"Enter the words : \"))\n",
    "word = (input(\"Enter the words:\"))\n",
    "a = string.split()\n",
    "count = 0\n",
    "for i in a:\n",
    "    if word in i  :\n",
    "        count +=1\n",
    "print(count)    "
   ]
  },
  {
   "cell_type": "markdown",
   "id": "5f83982b",
   "metadata": {},
   "source": [
    "12. Find the first occurrence of a word in a string"
   ]
  },
  {
   "cell_type": "code",
   "execution_count": 13,
   "id": "e15587a9",
   "metadata": {},
   "outputs": [
    {
     "name": "stdout",
     "output_type": "stream",
     "text": [
      "Enter the user input : \n",
      "Enter the word : \n"
     ]
    },
    {
     "data": {
      "text/plain": [
       "0"
      ]
     },
     "execution_count": 13,
     "metadata": {},
     "output_type": "execute_result"
    }
   ],
   "source": [
    "strings = str(input(\"Enter the user input : \"))\n",
    "occured_word = str(input(\"Enter the word : \"))\n",
    "index =strings.find(occured_word)\n",
    "index"
   ]
  },
  {
   "cell_type": "markdown",
   "id": "6e9a897d",
   "metadata": {},
   "source": [
    "13. Find the last occurrence of a word in a string."
   ]
  },
  {
   "cell_type": "code",
   "execution_count": 12,
   "id": "8f3fef7e",
   "metadata": {},
   "outputs": [
    {
     "name": "stdout",
     "output_type": "stream",
     "text": [
      "Enter the user input : aryan\n",
      "Enter the word : aryan\n"
     ]
    },
    {
     "data": {
      "text/plain": [
       "0"
      ]
     },
     "execution_count": 12,
     "metadata": {},
     "output_type": "execute_result"
    }
   ],
   "source": [
    "strings = str(input(\"Enter the user input : \"))\n",
    "occured_word = str(input(\"Enter the word : \"))\n",
    "index =strings.rfind(occured_word)\n",
    "index\n",
    " "
   ]
  },
  {
   "cell_type": "markdown",
   "id": "f451ce40",
   "metadata": {},
   "source": [
    " 14.Split a string into a list of words."
   ]
  },
  {
   "cell_type": "code",
   "execution_count": 13,
   "id": "7b820013",
   "metadata": {},
   "outputs": [
    {
     "data": {
      "text/plain": [
       "['mother', 'is', 'the', 'face', 'of', 'God', '.']"
      ]
     },
     "execution_count": 13,
     "metadata": {},
     "output_type": "execute_result"
    }
   ],
   "source": [
    "strings = \"mother is the face of God .\"\n",
    "strings.split()"
   ]
  },
  {
   "cell_type": "markdown",
   "id": "3a0e7b84",
   "metadata": {},
   "source": [
    "15 join a list of words into a string\n"
   ]
  },
  {
   "cell_type": "code",
   "execution_count": 14,
   "id": "6e4ea1d1",
   "metadata": {},
   "outputs": [
    {
     "name": "stdout",
     "output_type": "stream",
     "text": [
      " aryan one two three four"
     ]
    }
   ],
   "source": [
    "lists = [\"aryan\",\"one\",\"two\",\"three\",\"four\"]\n",
    "join_string = \" \"\n",
    "for i in lists:\n",
    "    join_string = \" \" + i\n",
    "    print(join_string,end = \"\")"
   ]
  },
  {
   "cell_type": "code",
   "execution_count": 27,
   "id": "ea63569e",
   "metadata": {},
   "outputs": [
    {
     "data": {
      "text/plain": [
       "'aryan one two three four'"
      ]
     },
     "execution_count": 27,
     "metadata": {},
     "output_type": "execute_result"
    }
   ],
   "source": [
    "lists = [\"aryan\",\"one\",\"two\",\"three\",\"four\"]\n",
    "\" \".join(lists)"
   ]
  },
  {
   "cell_type": "markdown",
   "id": "bf16a92f",
   "metadata": {},
   "source": [
    "16. Convert a string where words are separated by spaces to one where words\n",
    "are separated by underscores.\n"
   ]
  },
  {
   "cell_type": "code",
   "execution_count": 30,
   "id": "7c1d8691",
   "metadata": {},
   "outputs": [
    {
     "data": {
      "text/plain": [
       "'_Honesty_is_the_best_policy.'"
      ]
     },
     "execution_count": 30,
     "metadata": {},
     "output_type": "execute_result"
    }
   ],
   "source": [
    "a = \" Honesty is the best policy.\"\n",
    "a.replace(\" \",\"_\")"
   ]
  },
  {
   "cell_type": "markdown",
   "id": "d768dea3",
   "metadata": {},
   "source": [
    "17 and 18 are not done "
   ]
  },
  {
   "cell_type": "markdown",
   "id": "c19f7db3",
   "metadata": {},
   "source": [
    "19. Convert a string to title case (e.g., \"hello world\" to \"Hello World\")."
   ]
  },
  {
   "cell_type": "code",
   "execution_count": 33,
   "id": "d73ef400",
   "metadata": {},
   "outputs": [
    {
     "data": {
      "text/plain": [
       "'Winner Winner Chicken Dinner .'"
      ]
     },
     "execution_count": 33,
     "metadata": {},
     "output_type": "execute_result"
    }
   ],
   "source": [
    "change_title = \"winner winner chicken dinner .\"\n",
    "change_title.title()"
   ]
  },
  {
   "cell_type": "markdown",
   "id": "98930efb",
   "metadata": {},
   "source": [
    "20. Find the longest word in a string.\n"
   ]
  },
  {
   "cell_type": "code",
   "execution_count": 194,
   "id": "847661c5",
   "metadata": {},
   "outputs": [
    {
     "name": "stdout",
     "output_type": "stream",
     "text": [
      "jumped\n"
     ]
    }
   ],
   "source": [
    "s = \"the quick brown fox jumped  over the lazy dog\"\n",
    "print(max(s.split(),key=len))"
   ]
  },
  {
   "cell_type": "code",
   "execution_count": 7,
   "id": "1fd4f437",
   "metadata": {},
   "outputs": [
    {
     "data": {
      "text/plain": [
       "'jumped'"
      ]
     },
     "execution_count": 7,
     "metadata": {},
     "output_type": "execute_result"
    }
   ],
   "source": [
    "a = \"The Quick brown fox jumped over the lazy dog\"\n",
    "m = a.split()\n",
    "def long_word(x):\n",
    "    longest_wrd = \"\"\n",
    "    for i in x:\n",
    "        if len(i)>len(longest_wrd):\n",
    "            longest_wrd = i\n",
    "    return longest_wrd\n",
    "long_word(m)"
   ]
  },
  {
   "cell_type": "markdown",
   "id": "64a958c7",
   "metadata": {},
   "source": [
    "21. Find the shortest word in a string.\n"
   ]
  },
  {
   "cell_type": "code",
   "execution_count": 21,
   "id": "b2ef62cd",
   "metadata": {},
   "outputs": [
    {
     "name": "stdout",
     "output_type": "stream",
     "text": [
      "a\n"
     ]
    }
   ],
   "source": [
    "s= \"the quick brown fox jumped over a lazy dog \"\n",
    "print(min(s.split(),key= len))"
   ]
  },
  {
   "cell_type": "markdown",
   "id": "7f53551c",
   "metadata": {},
   "source": [
    "22. Reverse the order of words in a string.\n"
   ]
  },
  {
   "cell_type": "code",
   "execution_count": 269,
   "id": "466fd41b",
   "metadata": {},
   "outputs": [
    {
     "data": {
      "text/plain": [
       "'rehtoM si eht ecaf fo eht doG'"
      ]
     },
     "execution_count": 269,
     "metadata": {},
     "output_type": "execute_result"
    }
   ],
   "source": [
    "string = \"Mother is the face of the God \"\n",
    "ab = string.split()\n",
    "x = list(map(lambda a:a[::-1],ab))\n",
    "\" \".join(x)"
   ]
  },
  {
   "cell_type": "markdown",
   "id": "b98639d1",
   "metadata": {},
   "source": [
    "23. Check if a string is alphanumeric."
   ]
  },
  {
   "cell_type": "code",
   "execution_count": 274,
   "id": "34463f28",
   "metadata": {},
   "outputs": [
    {
     "data": {
      "text/plain": [
       "False"
      ]
     },
     "execution_count": 274,
     "metadata": {},
     "output_type": "execute_result"
    }
   ],
   "source": [
    "strr = \"aryan 41490\"\n",
    "strr.isalnum()"
   ]
  },
  {
   "cell_type": "markdown",
   "id": "37a7ea42",
   "metadata": {},
   "source": [
    "24. Extract all digits from a string."
   ]
  },
  {
   "cell_type": "code",
   "execution_count": 282,
   "id": "9acb1fe3",
   "metadata": {},
   "outputs": [
    {
     "name": "stdout",
     "output_type": "stream",
     "text": [
      "['3', '2', '0', '4', '9', '6', '5', '0', '4', '0', '9', '6', '7', '3', '4', '1', '1', '7', '7', '9', '7', '3', '0'] "
     ]
    }
   ],
   "source": [
    "strr = \"UttarPradesh32 Maha sen 04965astra04 alien0967 Haryana34 karn11 Mad  77 97 desh30\"\n",
    "w = [i for i in strr if i in \"1234567890\"]\n",
    "print(w,end= ' ')"
   ]
  },
  {
   "cell_type": "markdown",
   "id": "da0712e2",
   "metadata": {},
   "source": [
    " 25. Extract all alphabets from a string.\n"
   ]
  },
  {
   "cell_type": "code",
   "execution_count": 72,
   "id": "bb51aedc",
   "metadata": {},
   "outputs": [
    {
     "data": {
      "text/plain": [
       "'thequickbrowwnfosjumpoverthefox'"
      ]
     },
     "execution_count": 72,
     "metadata": {},
     "output_type": "execute_result"
    }
   ],
   "source": [
    "al_string  = \"the 434 quick34 brow42wn fos202 ju23mp 34over the 42 fox \"\n",
    "s = al_string.lower()\n",
    "x = [ap for ap in s if ap in \"abcdefghijklmnopqrstuvwxyz\"]\n",
    "\n",
    "\"\".join(x)"
   ]
  },
  {
   "cell_type": "code",
   "execution_count": 73,
   "id": "93c2befe",
   "metadata": {},
   "outputs": [
    {
     "name": "stdout",
     "output_type": "stream",
     "text": [
      "['t', 'h', 'e', 'q', 'u', 'i', 'c', 'k', 'b', 'r', 'o', 'w', 'w', 'n', 'f', 'o', 's', 'j', 'u', 'm', 'p', 'o', 'v', 'e', 'r', 't', 'h', 'e', 'f', 'o', 'x'] "
     ]
    }
   ],
   "source": [
    "print(x,end = ' ')"
   ]
  },
  {
   "cell_type": "raw",
   "id": "eab409de",
   "metadata": {},
   "source": [
    "26. Count the number of uppercase letters in a string.\n",
    "27. Count the number of lowercase letters in a string."
   ]
  },
  {
   "cell_type": "code",
   "execution_count": 145,
   "id": "4b5eda14",
   "metadata": {},
   "outputs": [
    {
     "name": "stdout",
     "output_type": "stream",
     "text": [
      "9\n",
      "27\n"
     ]
    }
   ],
   "source": [
    "a = \"The Quick Brown Fox Jumped Over The Lazy Fox\"\n",
    "count = 0\n",
    "count2 = 0\n",
    "for i in a:\n",
    "    if i.isupper():\n",
    "        count +=1\n",
    "print(count)\n",
    "for x in a:\n",
    "    if x.islower():\n",
    "        count2+=1\n",
    "print(count2)\n",
    "\n"
   ]
  },
  {
   "cell_type": "markdown",
   "id": "4e16ffab",
   "metadata": {},
   "source": [
    "28. Swap the case of each character in a string.\n"
   ]
  },
  {
   "cell_type": "code",
   "execution_count": 156,
   "id": "357678f7",
   "metadata": {},
   "outputs": [
    {
     "data": {
      "text/plain": [
       "'wINNER wiNNer cHIkeN dINnEr We arE tECHNO GUYs'"
      ]
     },
     "execution_count": 156,
     "metadata": {},
     "output_type": "execute_result"
    }
   ],
   "source": [
    "# a = \"charater\"\n",
    "# b = \"swapping\"\n",
    "# print(\"the given ===  \",a , b)\n",
    "# temp = a\n",
    "# a = b\n",
    "# b = temp\n",
    "# print(\" the output of the given data = \",a , b)\n",
    "string = \"Winner WInnER ChiKEn DinNeR wE ARe Techno guyS\"\n",
    "swaping = string.swapcase()\n",
    "swaping"
   ]
  },
  {
   "cell_type": "markdown",
   "id": "ee3427f5",
   "metadata": {},
   "source": [
    "29. Remove a specific word from a string.\n"
   ]
  },
  {
   "cell_type": "code",
   "execution_count": 187,
   "id": "0df31a10",
   "metadata": {},
   "outputs": [
    {
     "data": {
      "text/plain": [
       "'time tide wait for nonessss'"
      ]
     },
     "execution_count": 187,
     "metadata": {},
     "output_type": "execute_result"
    }
   ],
   "source": [
    "specifc_word = \"time and tide wait for nonessss\"\n",
    "a = specifc_word.split()\n",
    "a.remove(\"and\")\n",
    "\" \".join(a)"
   ]
  },
  {
   "cell_type": "markdown",
   "id": "479deefb",
   "metadata": {},
   "source": [
    "30. Check if a string is a valid email address."
   ]
  },
  {
   "cell_type": "code",
   "execution_count": 18,
   "id": "af852bda",
   "metadata": {},
   "outputs": [
    {
     "name": "stdout",
     "output_type": "stream",
     "text": [
      "Enter your  valid email == \n",
      "\n",
      "pwskills@support.com\n",
      "this is a valid email .\n"
     ]
    }
   ],
   "source": [
    "import re\n",
    "regex = \"^[a-zA-Z0-9]+(?:\\.[a-zA-Z0-9]+)*@[a-zA-Z0-9]+(?:\\.[a-zA-Z0-9]+)*$\"\n",
    "def check_email(email):\n",
    "    if (re.search(regex,email)):\n",
    "        print(\"this is a valid email .\")\n",
    "    else:\n",
    "        print(\"Invalid email.\")\n",
    "if __name__=='__main__':\n",
    "    email = input(\"Enter your  valid email == \\n\\n\")\n",
    "    check_email(email)"
   ]
  },
  {
   "cell_type": "markdown",
   "id": "6e3ca7a5",
   "metadata": {},
   "source": [
    " 32. Extract the domain name from an email address string"
   ]
  },
  {
   "cell_type": "markdown",
   "id": "a58a0853",
   "metadata": {},
   "source": [
    " . Extract the username from an email address string.\n"
   ]
  },
  {
   "cell_type": "markdown",
   "id": "579e6b93",
   "metadata": {},
   "source": [
    "33. Replace multiple spaces in a string with a single space."
   ]
  },
  {
   "cell_type": "markdown",
   "id": "b25cd510",
   "metadata": {},
   "source": [
    "34. Check if a string is a valid URL."
   ]
  },
  {
   "cell_type": "markdown",
   "id": "64967b71",
   "metadata": {},
   "source": [
    "35. Extract the protocol (http or https) from a URL string.\n"
   ]
  },
  {
   "cell_type": "markdown",
   "id": "dce039a8",
   "metadata": {},
   "source": [
    "36. Find the frequency of each character in a string.\n"
   ]
  },
  {
   "cell_type": "code",
   "execution_count": 4,
   "id": "6b731add",
   "metadata": {},
   "outputs": [
    {
     "name": "stdout",
     "output_type": "stream",
     "text": [
      "Enter the string that you wants to frequent aryan yaqdav\n",
      "{'a': 4, 'r': 1, 'y': 2, 'n': 1, ' ': 1, 'q': 1, 'd': 1, 'v': 1} "
     ]
    }
   ],
   "source": [
    "# frequency means the repition of the character in the given string\n",
    "string = input(\"Enter the string that you wants to frequent \") \n",
    "x = list(string)\n",
    "# using list comprehension\n",
    "freq = [x.count(char) for char in x]\n",
    "freq\n",
    "check = dict(list(zip(x,freq)))\n",
    "print(check,end = \" \")\n"
   ]
  },
  {
   "cell_type": "code",
   "execution_count": 5,
   "id": "2e6dfbeb",
   "metadata": {},
   "outputs": [
    {
     "name": "stdout",
     "output_type": "stream",
     "text": [
      "enter the string \n",
      "\n"
     ]
    }
   ],
   "source": [
    "punch  = input(\"enter the string \")\n",
    "remove =  \",./<>?\\][{|:;!~'`=@#$%^&*-_=\"\n",
    "strs =\"\"\n",
    "for i in punch:\n",
    "    if i not in remove :\n",
    "        strs = strs + i\n",
    "print(strs)"
   ]
  },
  {
   "cell_type": "markdown",
   "id": "f9d300f7",
   "metadata": {},
   "source": [
    "38. Check if a string contains only digits"
   ]
  },
  {
   "cell_type": "code",
   "execution_count": 6,
   "id": "a988a46a",
   "metadata": {},
   "outputs": [
    {
     "name": "stdout",
     "output_type": "stream",
     "text": [
      "Enter the string \n"
     ]
    },
    {
     "data": {
      "text/plain": [
       "False"
      ]
     },
     "execution_count": 6,
     "metadata": {},
     "output_type": "execute_result"
    }
   ],
   "source": [
    "a = input(\"Enter the string \")\n",
    "a.isdigit()"
   ]
  },
  {
   "cell_type": "code",
   "execution_count": 7,
   "id": "22ce77a4",
   "metadata": {},
   "outputs": [
    {
     "data": {
      "text/plain": [
       "False"
      ]
     },
     "execution_count": 7,
     "metadata": {},
     "output_type": "execute_result"
    }
   ],
   "source": [
    "a.isnumeric()"
   ]
  },
  {
   "cell_type": "markdown",
   "id": "75e7b8c9",
   "metadata": {},
   "source": [
    "39. Check if a string contains only alphabets."
   ]
  },
  {
   "cell_type": "code",
   "execution_count": 8,
   "id": "4b16c603",
   "metadata": {},
   "outputs": [
    {
     "name": "stdout",
     "output_type": "stream",
     "text": [
      "Enter the string : \n"
     ]
    },
    {
     "data": {
      "text/plain": [
       "False"
      ]
     },
     "execution_count": 8,
     "metadata": {},
     "output_type": "execute_result"
    }
   ],
   "source": [
    "check= input(\"Enter the string : \")\n",
    "check.isalpha()"
   ]
  },
  {
   "cell_type": "markdown",
   "id": "49217d38",
   "metadata": {},
   "source": [
    "40. Convert a string to a list of characters.\n",
    " "
   ]
  },
  {
   "cell_type": "code",
   "execution_count": 9,
   "id": "755ed213",
   "metadata": {},
   "outputs": [
    {
     "name": "stdout",
     "output_type": "stream",
     "text": [
      "Enter the string :\n"
     ]
    },
    {
     "data": {
      "text/plain": [
       "[]"
      ]
     },
     "execution_count": 9,
     "metadata": {},
     "output_type": "execute_result"
    }
   ],
   "source": [
    "s = input(\"Enter the string :\")\n",
    "list(s)\n"
   ]
  },
  {
   "cell_type": "code",
   "execution_count": null,
   "id": "eb3883a9",
   "metadata": {},
   "outputs": [],
   "source": []
  }
 ],
 "metadata": {
  "kernelspec": {
   "display_name": "Python 3 (ipykernel)",
   "language": "python",
   "name": "python3"
  },
  "language_info": {
   "codemirror_mode": {
    "name": "ipython",
    "version": 3
   },
   "file_extension": ".py",
   "mimetype": "text/x-python",
   "name": "python",
   "nbconvert_exporter": "python",
   "pygments_lexer": "ipython3",
   "version": "3.11.5"
  }
 },
 "nbformat": 4,
 "nbformat_minor": 5
}
