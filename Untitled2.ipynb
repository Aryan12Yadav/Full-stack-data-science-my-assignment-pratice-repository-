{
 "cells": [
  {
   "cell_type": "markdown",
   "id": "d211238c",
   "metadata": {},
   "source": [
    "# Assignment 5"
   ]
  },
  {
   "cell_type": "markdown",
   "id": "99c3e71f",
   "metadata": {},
   "source": [
    "##### 1. Write a Python program to print numbers from 1 to 10 using a for loop."
   ]
  },
  {
   "cell_type": "code",
   "execution_count": 2,
   "id": "aae39baa",
   "metadata": {},
   "outputs": [
    {
     "name": "stdout",
     "output_type": "stream",
     "text": [
      "0 1 2 3 4 5 6 7 8 9 10 "
     ]
    }
   ],
   "source": [
    "for i in range(11):\n",
    "    print(i,end = \" \")"
   ]
  },
  {
   "cell_type": "markdown",
   "id": "edf15b31",
   "metadata": {},
   "source": [
    "##### 2. Explain the difference between a for loop and a while loop in Python.\n"
   ]
  },
  {
   "cell_type": "raw",
   "id": "1400c910",
   "metadata": {},
   "source": [
    "Loop -- it is a used as for variable in iterable  , if the function will iterate according to the conditon\n",
    "        loop  is executed each items of the iterable \n",
    "        \n",
    "while loop\n",
    "            In while loop the items has unknown iteration  until the condition will be True \n",
    "            after the condition false loop become break"
   ]
  },
  {
   "cell_type": "markdown",
   "id": "c2c792fb",
   "metadata": {},
   "source": [
    "##### 3. Write a Python program to calculate the sum of all numbers from 1 to 100 using a for loop."
   ]
  },
  {
   "cell_type": "code",
   "execution_count": 2,
   "id": "f7a12a8e",
   "metadata": {},
   "outputs": [
    {
     "name": "stdout",
     "output_type": "stream",
     "text": [
      "5050\n"
     ]
    }
   ],
   "source": [
    "sum = 0\n",
    "for i in range(101):\n",
    "    sum = sum + i\n",
    "print(sum)"
   ]
  },
  {
   "cell_type": "markdown",
   "id": "90c259df",
   "metadata": {},
   "source": [
    "##### 4. How do you iterate through a list using a for loop in Python?\n"
   ]
  },
  {
   "cell_type": "code",
   "execution_count": 4,
   "id": "fe883242",
   "metadata": {},
   "outputs": [
    {
     "name": "stdout",
     "output_type": "stream",
     "text": [
      "23\n",
      "46\n",
      "99\n",
      "241\n",
      "string\n",
      "iterate \n",
      "the\n",
      "list\n"
     ]
    }
   ],
   "source": [
    "l1 = [23,46,99,241,\"string\",\"iterate \",\"the\",\"list\"]\n",
    "for i in l1:\n",
    "    print(i)"
   ]
  },
  {
   "cell_type": "markdown",
   "id": "21d73956",
   "metadata": {},
   "source": [
    "##### 5. Write a Python program to find the product of all elements in a list using a for loop.\n"
   ]
  },
  {
   "cell_type": "code",
   "execution_count": 91,
   "id": "ca2f6d61",
   "metadata": {},
   "outputs": [
    {
     "name": "stdout",
     "output_type": "stream",
     "text": [
      "-5420.3821056\n"
     ]
    }
   ],
   "source": [
    "my_list = [4,3,0.3,7.2,2,1.23,2.1,-2.2,8,-1,-2.3]\n",
    "product = 1\n",
    "for num in my_list:\n",
    "    product = product*num\n",
    "print(product)"
   ]
  },
  {
   "cell_type": "markdown",
   "id": "a1db9e69",
   "metadata": {},
   "source": [
    "##### 6. Create a Python program that prints all even numbers from 1 to 20 using a for loop."
   ]
  },
  {
   "cell_type": "code",
   "execution_count": 16,
   "id": "934e9f75",
   "metadata": {},
   "outputs": [
    {
     "name": "stdout",
     "output_type": "stream",
     "text": [
      "0\n",
      "2\n",
      "4\n",
      "6\n",
      "8\n",
      "10\n",
      "12\n",
      "14\n",
      "16\n",
      "18\n",
      "20\n"
     ]
    }
   ],
   "source": [
    "for num in range(21):\n",
    "    if num%2 == 0:\n",
    "        print(num)\n",
    "        "
   ]
  },
  {
   "cell_type": "markdown",
   "id": "61fb6c6b",
   "metadata": {},
   "source": [
    "##### 7. Write a Python program that calculates the factorial of a number using a for loop.\n"
   ]
  },
  {
   "cell_type": "code",
   "execution_count": 54,
   "id": "78cb7265",
   "metadata": {},
   "outputs": [
    {
     "data": {
      "text/plain": [
       "720"
      ]
     },
     "execution_count": 54,
     "metadata": {},
     "output_type": "execute_result"
    }
   ],
   "source": [
    "def factorial(fa):\n",
    "    while fa>0:\n",
    "        if fa<=1:\n",
    "            return 1\n",
    "        else:\n",
    "            return fa*factorial(fa-1)\n",
    "factorial(6)"
   ]
  },
  {
   "cell_type": "markdown",
   "id": "48440fb6",
   "metadata": {},
   "source": [
    "##### 8. How can you iterate through the characters of a string using a for loop in Python?"
   ]
  },
  {
   "cell_type": "code",
   "execution_count": 67,
   "id": "e20cac9e",
   "metadata": {},
   "outputs": [
    {
     "name": "stdout",
     "output_type": "stream",
     "text": [
      "Enter the input : Lucknow is the city of nawab\n",
      "L, u, c, k, n, o, w, i, s, t, h, e, c, i, t, y, o, f, n, a, w, a, b, "
     ]
    }
   ],
   "source": [
    "my_string = str(input(\"Enter the input : \"))\n",
    "for outcome in my_string:\n",
    "    if outcome == \" \":\n",
    "        del(outcome)\n",
    "    else:\n",
    "        print(outcome,end = \", \")\n",
    "        "
   ]
  },
  {
   "cell_type": "markdown",
   "id": "4ea1706b",
   "metadata": {},
   "source": [
    "##### 9. Write a Python program to find the largest number in a list using a for loop.\n"
   ]
  },
  {
   "cell_type": "code",
   "execution_count": 85,
   "id": "51c28014",
   "metadata": {},
   "outputs": [
    {
     "data": {
      "text/plain": [
       "86"
      ]
     },
     "execution_count": 85,
     "metadata": {},
     "output_type": "execute_result"
    }
   ],
   "source": [
    "my_list = [3,5,6,7,33,86,8,4,39,3,]\n",
    "def largest_num(l):\n",
    "    if l[0]==len(my_list):\n",
    "        return l\n",
    "    else:\n",
    "        for items in l:\n",
    "            return max(l)\n",
    "largest_num(my_list)             \n",
    "        "
   ]
  },
  {
   "cell_type": "code",
   "execution_count": 99,
   "id": "79c46505",
   "metadata": {},
   "outputs": [
    {
     "data": {
      "text/plain": [
       "86"
      ]
     },
     "execution_count": 99,
     "metadata": {},
     "output_type": "execute_result"
    }
   ],
   "source": [
    "my_list = [3,5,6,7,33,86,8,4,39,3,]\n",
    "def largest_number(num):\n",
    "    largest = num[0]\n",
    "    \n",
    "    for i in num:\n",
    "        if i>largest:\n",
    "            largest = i\n",
    "    return largest\n",
    "largest_number(my_list)"
   ]
  },
  {
   "cell_type": "markdown",
   "id": "44238930",
   "metadata": {},
   "source": [
    "##### 10. Create a Python program that prints the Fibonacci sequence up to a specified limit using a for loop."
   ]
  },
  {
   "cell_type": "code",
   "execution_count": 154,
   "id": "75ae29db",
   "metadata": {},
   "outputs": [
    {
     "name": "stdout",
     "output_type": "stream",
     "text": [
      "Enter the number : 10\n",
      "0\n",
      "1\n",
      "1\n",
      "2\n",
      "3\n",
      "5\n",
      "8\n",
      "13\n",
      "21\n",
      "34\n"
     ]
    }
   ],
   "source": [
    "user = int(input(\"Enter the number : \"))\n",
    "a = 0 # n - 2\n",
    "b = 1 # n - 1\n",
    "for i in range(0,user):\n",
    "    if i== 0:\n",
    "        print(i)\n",
    "    elif i == 1:\n",
    "        print(i)\n",
    "    else:\n",
    "        if i>1:\n",
    "            t = a+b\n",
    "            print(t)\n",
    "        a,b = b,t\n",
    "        \n",
    "             "
   ]
  },
  {
   "cell_type": "markdown",
   "id": "9f61e0e7",
   "metadata": {},
   "source": [
    "##### 11. Write a Python program to count the number of vowels in a given string using a for loop."
   ]
  },
  {
   "cell_type": "code",
   "execution_count": 159,
   "id": "f453dc7f",
   "metadata": {},
   "outputs": [
    {
     "name": "stdout",
     "output_type": "stream",
     "text": [
      "Enter the input : mankind people are good\n",
      "9\n"
     ]
    }
   ],
   "source": [
    "my_string = input(\"Enter the input : \").lower()\n",
    "count = 0\n",
    "for items in my_string:\n",
    "    if items in [\"a\",'e','o','i','u']:\n",
    "        count = count+1\n",
    "print(count)"
   ]
  },
  {
   "cell_type": "markdown",
   "id": "6e941716",
   "metadata": {},
   "source": [
    "##### 12. Create a Python program that generates a multiplication table for a given number using a for\n",
    "loop.\n"
   ]
  },
  {
   "cell_type": "code",
   "execution_count": 9,
   "id": "7cd6e96e",
   "metadata": {},
   "outputs": [
    {
     "name": "stdout",
     "output_type": "stream",
     "text": [
      "Enter the table : 6\n",
      "6 X 1 = 6\n",
      "6 X 2 = 12\n",
      "6 X 3 = 18\n",
      "6 X 4 = 24\n",
      "6 X 5 = 30\n",
      "6 X 6 = 36\n",
      "6 X 7 = 42\n",
      "6 X 8 = 48\n",
      "6 X 9 = 54\n",
      "6 X 10 = 60\n"
     ]
    }
   ],
   "source": [
    "table = int(input(\"Enter the table : \"))\n",
    "for i in range(1,11):\n",
    "    m  = i*table\n",
    "    print(table,\"X\",i ,\"=\",m)\n",
    "   "
   ]
  },
  {
   "cell_type": "markdown",
   "id": "4186a65a",
   "metadata": {},
   "source": [
    "##### 13. Write a Python program to reverse a list using a for loop.\n"
   ]
  },
  {
   "cell_type": "code",
   "execution_count": 11,
   "id": "7df54c46",
   "metadata": {},
   "outputs": [
    {
     "name": "stdout",
     "output_type": "stream",
     "text": [
      "Enter the input : the lucknow is the city of nawab\n",
      "['nawab', 'of', 'city', 'the', 'is', 'lucknow']\n"
     ]
    }
   ],
   "source": [
    "my_string = input(\"Enter the input : \").split()\n",
    "x = []\n",
    "for i in range(1,len(my_string)):\n",
    "    x.append(my_string[len(my_string)-i])\n",
    "print(x)"
   ]
  },
  {
   "cell_type": "code",
   "execution_count": 12,
   "id": "0f360bad",
   "metadata": {},
   "outputs": [
    {
     "name": "stdout",
     "output_type": "stream",
     "text": [
      "['nawab', 'of', 'city', 'the', 'is', 'lucknow', 'the']\n"
     ]
    }
   ],
   "source": [
    "u = []\n",
    "for i in range(len(my_string)-1,-1,-1):\n",
    "    u.append(my_string[i])\n",
    "print(u)\n",
    "        \n",
    "        "
   ]
  },
  {
   "cell_type": "markdown",
   "id": "59c59619",
   "metadata": {},
   "source": [
    "##### 14. Write a Python program to find the common elements between two lists using a for loop"
   ]
  },
  {
   "cell_type": "code",
   "execution_count": 280,
   "id": "5f0f63f9",
   "metadata": {},
   "outputs": [
    {
     "name": "stdout",
     "output_type": "stream",
     "text": [
      "{35, 3, 6, 7, 8, 'deli', 'kanpur', 'lucknow'}\n"
     ]
    }
   ],
   "source": [
    "list1 = [3,35,\"luckknow\",\"kanpur\",\"lucknow\",6,7,8,4,\"stysns\",\"kanpur\",9,3,35,\"deli\"]\n",
    "list2  = [\"lucknow\",64,3,2,\"kanpur\",7,8,3,8,\"deli\",\"raman\",\"lucknow\",3,6,6,6,\"lucknow\", 'kanpur',35,'krushna']\n",
    "list2_0= []\n",
    "for i in list1: \n",
    "        if i in list2:\n",
    "            list2_0.append(i)\n",
    "print(set(list2_0))"
   ]
  },
  {
   "cell_type": "markdown",
   "id": "1e994067",
   "metadata": {},
   "source": [
    "##### 15. Explain how to use a for loop to iterate through the keys and values of a dictionary in Python."
   ]
  },
  {
   "cell_type": "code",
   "execution_count": 380,
   "id": "249c5b97",
   "metadata": {},
   "outputs": [
    {
     "name": "stdout",
     "output_type": "stream",
     "text": [
      "aryan, prince, india, flag, gods, kanpur, \n",
      "\n",
      "\n",
      "a,p,i,f,g,k,"
     ]
    }
   ],
   "source": [
    "d = {\"aryan\":\"a\",\"prince\":\"p\",\"india\":\"i\",\"flag\":\"f\",\"gods\":\"g\",\"kanpur\":\"k\"}\n",
    "for i in d:\n",
    "    print(i,end = \", \")\n",
    "print(\"\\n\\n\")\n",
    "for i in d:\n",
    "    print(d[i] ,end = \",\")\n",
    "\n",
    "    \n",
    "            "
   ]
  },
  {
   "cell_type": "markdown",
   "id": "16e458c1",
   "metadata": {},
   "source": [
    "##### 16. Write a Python program to find the GCD (Greatest Common Divisor) of two numbers using a for\n",
    "loop.\n"
   ]
  },
  {
   "cell_type": "code",
   "execution_count": 14,
   "id": "fc576771",
   "metadata": {},
   "outputs": [
    {
     "name": "stdout",
     "output_type": "stream",
     "text": [
      "16\n"
     ]
    }
   ],
   "source": [
    "import math\n",
    "print(math.gcd(64,48))"
   ]
  },
  {
   "cell_type": "code",
   "execution_count": 393,
   "id": "1274ec7f",
   "metadata": {},
   "outputs": [
    {
     "name": "stdout",
     "output_type": "stream",
     "text": [
      "Enter the number : 64\n",
      "Enterh the number 48\n"
     ]
    },
    {
     "data": {
      "text/plain": [
       "16"
      ]
     },
     "execution_count": 393,
     "metadata": {},
     "output_type": "execute_result"
    }
   ],
   "source": [
    "# by using eculid method \n",
    "def gcd(a,b):\n",
    "    if b == 0:\n",
    "        return a\n",
    "    else:\n",
    "        return gcd(b,a%b)\n",
    "num1= int(input(\"Enter the number : \"))\n",
    "num2 = int(input(\"Enterh the number \"))\n",
    "gcd(num1,num2)"
   ]
  },
  {
   "cell_type": "markdown",
   "id": "cd95283c",
   "metadata": {},
   "source": [
    "##### 17. Create a Python program that checks if a string is a palindrome using a for loop."
   ]
  },
  {
   "cell_type": "code",
   "execution_count": 22,
   "id": "5317d64e",
   "metadata": {},
   "outputs": [
    {
     "name": "stdout",
     "output_type": "stream",
     "text": [
      "Enter the input : malayalam\n",
      "malayalam it is a palindrome\n"
     ]
    }
   ],
   "source": [
    "def check_palin(s):\n",
    "    palindrone = \"\"\n",
    "    for i in range(len(s)-1,-1,-1):\n",
    "        palindrone +=s[i]\n",
    "    return s == palindrone   # if this condition satisfied then print it is a palindrone\n",
    "string = input(\"Enter the input : \")\n",
    "if check_palin(string):\n",
    "    print(string,\"it is a palindrome\")\n",
    "else:\n",
    "    print(string,\"it is nnot a palindrome\")"
   ]
  },
  {
   "cell_type": "markdown",
   "id": "91f481e4",
   "metadata": {},
   "source": [
    "##### 18. Write a Python program to remove duplicates from a list using a for loop.\n"
   ]
  },
  {
   "cell_type": "code",
   "execution_count": 46,
   "id": "1f45fa94",
   "metadata": {},
   "outputs": [
    {
     "name": "stdout",
     "output_type": "stream",
     "text": [
      "[2, 4, 5, 6, 8, 3, 12, 67, 45, 76]\n"
     ]
    }
   ],
   "source": [
    "my_list = [2,4,5,6,8,6,3,2,12,67,5,4,45,76]\n",
    "new_list = []\n",
    "for i in my_list:\n",
    "    if i not in new_list:\n",
    "        new_list.append(i)\n",
    "print(new_list)"
   ]
  },
  {
   "cell_type": "markdown",
   "id": "176f5930",
   "metadata": {},
   "source": [
    "##### 19. Create a Python program that counts the number of words in a sentence using a for loop."
   ]
  },
  {
   "cell_type": "code",
   "execution_count": 55,
   "id": "14fd861a",
   "metadata": {},
   "outputs": [
    {
     "name": "stdout",
     "output_type": "stream",
     "text": [
      "Enter the input : the car number of 3453 and the mobil no 12344\n",
      "27\n"
     ]
    }
   ],
   "source": [
    "my_sent= input(\"Enter the input : \")\n",
    "count = 0\n",
    "for element in my_sent:\n",
    "    if element.isalpha() == True:\n",
    "        count += 1\n",
    "print(count)"
   ]
  },
  {
   "cell_type": "markdown",
   "id": "e3dab0ed",
   "metadata": {},
   "source": [
    "##### 20. Write a Python program to find the sum of all odd numbers from 1 to 50 using a for loop."
   ]
  },
  {
   "cell_type": "code",
   "execution_count": 3,
   "id": "758f7096",
   "metadata": {},
   "outputs": [
    {
     "name": "stdout",
     "output_type": "stream",
     "text": [
      "625\n"
     ]
    }
   ],
   "source": [
    "sum = 0\n",
    "for i in range(51):\n",
    "    if i%2!=0:\n",
    "        sum = sum+i\n",
    "print(sum)\n",
    "        "
   ]
  },
  {
   "cell_type": "markdown",
   "id": "082d3101",
   "metadata": {},
   "source": [
    "##### 21. Write a Python program that checks if a given year is a leap year using a for loop##### "
   ]
  },
  {
   "cell_type": "code",
   "execution_count": 18,
   "id": "24236a67",
   "metadata": {},
   "outputs": [
    {
     "name": "stdout",
     "output_type": "stream",
     "text": [
      "Enter the year : 2023\n",
      "2023 it is a leap year\n"
     ]
    }
   ],
   "source": [
    "def check_leap(y):\n",
    "    y == False\n",
    "    if y%4== 0:\n",
    "        y = True\n",
    "        if y%100 == 0:\n",
    "            y = False\n",
    "        if y %400 == 0:\n",
    "            y == True\n",
    "    return y==True\n",
    "s = int(input(\"Enter the year : \"))\n",
    "if check_leap(s):\n",
    "    print(s,\"it is a leap year\")\n",
    "else: \n",
    "    print(s,\"it is not a leap year \")"
   ]
  },
  {
   "cell_type": "markdown",
   "id": "9a6976b6",
   "metadata": {},
   "source": [
    "##### 22. Create a Python program that calculates the square root of a number using a for loop.\n"
   ]
  },
  {
   "cell_type": "code",
   "execution_count": 25,
   "id": "36dcc12c",
   "metadata": {},
   "outputs": [
    {
     "name": "stdout",
     "output_type": "stream",
     "text": [
      "Enter the number : 7\n",
      "the square root is  2.6457513110645907\n"
     ]
    }
   ],
   "source": [
    "sqr = int(input(\"Enter the number : \"))\n",
    "root = sqr**(0.5)\n",
    "print(\"the square root is \", root)"
   ]
  },
  {
   "cell_type": "code",
   "execution_count": 27,
   "id": "1e7ec235",
   "metadata": {},
   "outputs": [
    {
     "data": {
      "text/plain": [
       "2.6457513110645907"
      ]
     },
     "execution_count": 27,
     "metadata": {},
     "output_type": "execute_result"
    }
   ],
   "source": [
    "import math\n",
    "math.sqrt(sqr)"
   ]
  },
  {
   "cell_type": "markdown",
   "id": "d868b4db",
   "metadata": {},
   "source": [
    "##### 23. Write a Python program to find the LCM (Least Common Multiple) of two numbers using a for\n",
    "loop."
   ]
  },
  {
   "cell_type": "code",
   "execution_count": 36,
   "id": "6a1292b4",
   "metadata": {},
   "outputs": [
    {
     "name": "stdout",
     "output_type": "stream",
     "text": [
      "Enter the number : 12\n",
      "Enter the number : 8942\n"
     ]
    },
    {
     "data": {
      "text/plain": [
       "(53652, 'is the LCM of')"
      ]
     },
     "execution_count": 36,
     "metadata": {},
     "output_type": "execute_result"
    }
   ],
   "source": [
    "def find_lcm(x,y):\n",
    "    if x>y:\n",
    "        higher = x\n",
    "    else:\n",
    "        higher = y\n",
    "    value = higher\n",
    "    while True:\n",
    "        if higher%x==0 and higher%y==0:\n",
    "            return higher,\"is the LCM of\"\n",
    "            break\n",
    "        else:\n",
    "            higher = higher+value\n",
    "n1 = int(input(\"Enter the number : \"))\n",
    "n2 = int(input(\"Enter the number : \"))\n",
    "find_lcm(n1,n2)"
   ]
  },
  {
   "cell_type": "markdown",
   "id": "4d73f9be",
   "metadata": {},
   "source": [
    "# if else"
   ]
  },
  {
   "cell_type": "markdown",
   "id": "3ac4b57f",
   "metadata": {},
   "source": [
    "##### 1. Write a Python program to check if a number is positive, negative, or zero using an if-else\n",
    "statement."
   ]
  },
  {
   "cell_type": "code",
   "execution_count": 40,
   "id": "731ad926",
   "metadata": {},
   "outputs": [
    {
     "name": "stdout",
     "output_type": "stream",
     "text": [
      "Enter the number : 8\n",
      "the number is postive\n"
     ]
    }
   ],
   "source": [
    "my_num = int(input(\"Enter the number : \"))\n",
    "if my_num <0:\n",
    "    print(\"the number is negtive\")\n",
    "elif my_num==0:\n",
    "    print(\"the number is zero\")\n",
    "else:\n",
    "    print(\"the number is postive\")"
   ]
  },
  {
   "cell_type": "markdown",
   "id": "ea5ac7da",
   "metadata": {},
   "source": [
    "##### 2. Create a Python program that checks if a given number is even or odd using an if-else statement.\n"
   ]
  },
  {
   "cell_type": "code",
   "execution_count": 52,
   "id": "ce84223f",
   "metadata": {},
   "outputs": [
    {
     "name": "stdout",
     "output_type": "stream",
     "text": [
      "Enter the number : 0\n",
      "0 the number is neither be even nor be odd\n"
     ]
    }
   ],
   "source": [
    "take_num = int(input(\"Enter the number : \"))\n",
    "if take_num ==0:\n",
    "    print(take_num,\"the number is neither be even nor be odd\")\n",
    "elif take_num%2==0:\n",
    "    print(take_num,\"the number is even \")\n",
    "else:\n",
    "    print(take_num,\"the number is odd \")    "
   ]
  },
  {
   "cell_type": "markdown",
   "id": "47228935",
   "metadata": {},
   "source": [
    "##### 3. How can you use nested if-else statements in Python, and provide an example?\n"
   ]
  },
  {
   "cell_type": "code",
   "execution_count": 54,
   "id": "6bbcb836",
   "metadata": {},
   "outputs": [
    {
     "name": "stdout",
     "output_type": "stream",
     "text": [
      "right information\n",
      "right information \n",
      "right information\n",
      "day is not correct.\n"
     ]
    }
   ],
   "source": [
    "# if and else nested statement use when the condition statement have another \n",
    "# conditional statement then we use the nested if-else statments \\\n",
    "# lets us example \n",
    "\n",
    "school = \"creative\"\n",
    "stu_name = \"aryan\"\n",
    "stu_class = \"fourth\"\n",
    "day = \"wednesday\"\n",
    "if school == \"creative\":\n",
    "    print(\"right information\")\n",
    "    if stu_name == \"aryan\":\n",
    "        print(\"right information \")\n",
    "        if stu_class == \"fourth\":\n",
    "            print(\"right information\")\n",
    "            if day == \"saturday\":\n",
    "                print(\"ok fine\")\n",
    "            else:\n",
    "                print(\"day is not correct.\")\n",
    "        else:\n",
    "            print(\"stud_class is not correct \")\n",
    "    else:\n",
    "        print(\"stu_name is not correct match \")\n",
    "else:\n",
    "    print(\"something went wrong!\")"
   ]
  },
  {
   "cell_type": "markdown",
   "id": "f7678ff4",
   "metadata": {},
   "source": [
    "##### 4. Write a Python program to determine the largest of three numbers using if-else."
   ]
  },
  {
   "cell_type": "code",
   "execution_count": 56,
   "id": "2bb8a492",
   "metadata": {},
   "outputs": [
    {
     "name": "stdout",
     "output_type": "stream",
     "text": [
      "Enter the num first : 3\n",
      "Enter the num second : 4\n",
      "Enter the num third : 6\n",
      "6 is the largest number : \n"
     ]
    }
   ],
   "source": [
    "num1 = int(input(\"Enter the num first : \"))\n",
    "num2 = int(input(\"Enter the num second : \"))\n",
    "num3 = int(input(\"Enter the num third : \"))\n",
    "if num1<num2 and num2>num3:\n",
    "    print(num2,\"is the largest number .\")\n",
    "elif num3>num2 and num3>num1:\n",
    "    print(num3,\"is the largest number : \")\n",
    "elif num1>num3 and num1>num2:\n",
    "    print(num1,\"is the largest number \")\n",
    "else:\n",
    "    print(\"the all numbers are equals = \",num1)"
   ]
  },
  {
   "cell_type": "markdown",
   "id": "61c281b1",
   "metadata": {},
   "source": [
    "# map"
   ]
  },
  {
   "cell_type": "markdown",
   "id": "62cbacfe",
   "metadata": {},
   "source": [
    "##### 1. Explain the purpose of the `map()` function in Python and provide an example of how it can be\n",
    "used to apply a function to each element of an iterable."
   ]
  },
  {
   "cell_type": "markdown",
   "id": "6f79ca3f",
   "metadata": {},
   "source": [
    "The purpose of the map() function in Python is to apply a specific function to each item in an iterable (such as a list or tuple) and return an iterator of the results. It is used when we want to transform each element of an iterable by applying a particular operation or function to them, without using a loop."
   ]
  },
  {
   "cell_type": "code",
   "execution_count": 58,
   "id": "62c61e57",
   "metadata": {},
   "outputs": [
    {
     "name": "stdout",
     "output_type": "stream",
     "text": [
      "[9, 16, 16, 5476, 9, 4, 36]\n"
     ]
    }
   ],
   "source": [
    "my_map = [3,4,4,74,3,2,6]\n",
    "mapping = list(map(lambda i:i**2,my_map))\n",
    "print(mapping)"
   ]
  },
  {
   "cell_type": "markdown",
   "id": "4958863c",
   "metadata": {},
   "source": [
    "##### 2. Write a Python program that uses the `map()` function to square each element of a list of\n",
    "numbers."
   ]
  },
  {
   "cell_type": "code",
   "execution_count": 68,
   "id": "af7ddfc0",
   "metadata": {},
   "outputs": [
    {
     "data": {
      "text/plain": [
       "[4, 25, 49, 7056, 9, 16, 8100, 7569]"
      ]
     },
     "execution_count": 68,
     "metadata": {},
     "output_type": "execute_result"
    }
   ],
   "source": [
    "my_list = [2,5,7,84,3,4,90,87]\n",
    "list(map(lambda x:x*x,my_list))"
   ]
  },
  {
   "cell_type": "markdown",
   "id": "c3beb874",
   "metadata": {},
   "source": [
    "##### 3. How does the `map()` function differ from a list comprehension in Python, and when would you\n",
    "choose one over the other?\n"
   ]
  },
  {
   "cell_type": "markdown",
   "id": "313db768",
   "metadata": {},
   "source": [
    " The map() function and list comprehension in Python both allow us to apply a transformation to each element of an iterable and collect the results. However, they differ in syntax and some functional aspects.\n",
    "\n",
    "Here are some differences between map() and list comprehension in Python:\n",
    "\n",
    "Syntax:\n",
    "\n",
    "map() takes two arguments, a function and an iterable, and returns a map object. It requires passing a function explicitly.\n",
    "List comprehension has a more concise syntax and doesn't require explicitly passing a function. It uses square brackets [] to denote the comprehension.\n",
    "Return Type:\n",
    "\n",
    "map() returns a map object, which is an iterator. To get the result as a list, we need to convert it using the list() function.\n",
    "List comprehension directly returns a new list.\n",
    "Functionality:\n",
    "\n",
    "map() always requires a function as the first argument. It applies the given function to each element of the iterable and returns an iterator of the results.\n",
    "List comprehension can include conditional statements, allowing filtering elements from the iterable based on certain conditions."
   ]
  },
  {
   "cell_type": "markdown",
   "id": "a68654b7",
   "metadata": {},
   "source": [
    "##### 4. Create a Python program that uses the `map()` function to convert a list of names to uppercase."
   ]
  },
  {
   "cell_type": "code",
   "execution_count": 71,
   "id": "d5aff08d",
   "metadata": {},
   "outputs": [
    {
     "data": {
      "text/plain": [
       "['ARYAN', 'ARMAN', 'SUMIT', 'RAM', 'JUPYTER']"
      ]
     },
     "execution_count": 71,
     "metadata": {},
     "output_type": "execute_result"
    }
   ],
   "source": [
    "l = [\"aryan\",\"arman\",\"sumit\",\"ram\",\"jupyter\"]\n",
    "list(map(lambda a:a.upper(),l))"
   ]
  },
  {
   "cell_type": "markdown",
   "id": "2e3da9c3",
   "metadata": {},
   "source": [
    "##### 5. Write a Python program that uses the `map()` function to calculate the length of each word in a\n",
    "list of strings"
   ]
  },
  {
   "cell_type": "code",
   "execution_count": 76,
   "id": "d5313d55",
   "metadata": {},
   "outputs": [
    {
     "data": {
      "text/plain": [
       "[5, 6, 5, 3, 7]"
      ]
     },
     "execution_count": 76,
     "metadata": {},
     "output_type": "execute_result"
    }
   ],
   "source": [
    "l = [\"aryan\",\"arvind\",\"sumit\",\"ram\",\"jupyter\"]\n",
    "list(map(lambda t:len(t),l))"
   ]
  },
  {
   "cell_type": "markdown",
   "id": "7d591b34",
   "metadata": {},
   "source": [
    "##### 6. How can you use the `map()` function to apply a custom function to elements of multiple lists\n",
    "simultaneously in Python?\n"
   ]
  },
  {
   "cell_type": "code",
   "execution_count": 6,
   "id": "2bc68f50",
   "metadata": {},
   "outputs": [
    {
     "data": {
      "text/plain": [
       "[78.5, 166, 106]"
      ]
     },
     "execution_count": 6,
     "metadata": {},
     "output_type": "execute_result"
    }
   ],
   "source": [
    "def custom_function(a,b,c):\n",
    "    return a+b+c\n",
    "lis_1 = [29,94,8]\n",
    "lis_2 = [3.5,64,4]\n",
    "lis_3 = [46,8,94]\n",
    "\n",
    "list(map(custom_function,lis_1,lis_2,lis_3))"
   ]
  },
  {
   "cell_type": "markdown",
   "id": "33dc6cc9",
   "metadata": {},
   "source": [
    "##### 7. Create a Python program that uses `map()` to convert a list of temperatures from Celsius to\n",
    "Fahrenheit.\n"
   ]
  },
  {
   "cell_type": "code",
   "execution_count": 80,
   "id": "9a9d866b",
   "metadata": {},
   "outputs": [
    {
     "name": "stdout",
     "output_type": "stream",
     "text": [
      "temperature in Fahrenheit  =  [(13.5, 56.3), (15, 59.0), (45, 113.0), (34, 93.2), (-2, 28.4), (-7, 19.4), (18, 64.4)]\n"
     ]
    }
   ],
   "source": [
    "# f = 1.8*+32\n",
    "temp_in_celcius = [13.5,15,45,34,-2,-7,18]\n",
    "a = list(map(lambda temp:temp*1.8+32,temp_in_celcius))\n",
    "print(\"temperature in Fahrenheit  = \",list(zip(temp_in_celcius,a)))"
   ]
  },
  {
   "cell_type": "markdown",
   "id": "b4d36346",
   "metadata": {},
   "source": [
    "##### 8. Write a Python program that uses the `map()` function to round each element of a list of\n",
    "floating-point numbers to the nearest integer."
   ]
  },
  {
   "cell_type": "code",
   "execution_count": 250,
   "id": "263a4a78",
   "metadata": {},
   "outputs": [
    {
     "data": {
      "text/plain": [
       "[24, 64, 3, 68, 67, 13]"
      ]
     },
     "execution_count": 250,
     "metadata": {},
     "output_type": "execute_result"
    }
   ],
   "source": [
    "num = [23.53,64.23,2.7,68.4,67.0,12.99]# num>1\n",
    "new_num = list(map(lambda i:int(i)+1 if i%int(i)>0.5 else int(i),num))\n",
    "new_num"
   ]
  },
  {
   "cell_type": "code",
   "execution_count": 4,
   "id": "a779403a",
   "metadata": {},
   "outputs": [
    {
     "name": "stdout",
     "output_type": "stream",
     "text": [
      "the round of value is  [(23.53, 24), (-64.23, -65), (9.56, 10), (3.33, 3), (0.7, 1), (68.4, 68), (67.0, 66), (-12.99, -13), (0.4, 0), (0.001, 0), (-100.3, -101)]\n"
     ]
    }
   ],
   "source": [
    "number = [23.53,-64.23,9.56,3.33,0.7,68.4,67.0,-12.99,0.4,0.001,-100.3]\n",
    "\n",
    "def test_2(n):\n",
    "    if 0<n<1:\n",
    "        if n+1>=1.5:\n",
    "            return 1\n",
    "        elif 1<n+1<1.5:\n",
    "            return 0    \n",
    "    elif n%(-int(n))> -(0.5):\n",
    "        return int(n)-1\n",
    "    elif n%int(n)>0.5:\n",
    "        return int(n)+1\n",
    "    \n",
    "    else:\n",
    "        return int(n)\n",
    "n = list(map(test_2,number))\n",
    "print(\"the round of value is \",list(zip(number,n)))"
   ]
  },
  {
   "cell_type": "code",
   "execution_count": 246,
   "id": "10ecfa97",
   "metadata": {},
   "outputs": [
    {
     "data": {
      "text/plain": [
       "-45.5"
      ]
     },
     "execution_count": 246,
     "metadata": {},
     "output_type": "execute_result"
    }
   ],
   "source": [
    "a = -45.5\n",
    "a"
   ]
  },
  {
   "cell_type": "code",
   "execution_count": 247,
   "id": "c0b9bc79",
   "metadata": {},
   "outputs": [
    {
     "data": {
      "text/plain": [
       "-45"
      ]
     },
     "execution_count": 247,
     "metadata": {},
     "output_type": "execute_result"
    }
   ],
   "source": [
    "int(a)"
   ]
  },
  {
   "cell_type": "markdown",
   "id": "108386e7",
   "metadata": {},
   "source": [
    "### reduce"
   ]
  },
  {
   "cell_type": "markdown",
   "id": "3cbd1c78",
   "metadata": {},
   "source": [
    "##### 1. What is the `reduce()` function in Python, and what module should you import to use it? Provide\n",
    "an example of its basic usage."
   ]
  },
  {
   "cell_type": "code",
   "execution_count": 14,
   "id": "5fa46df1",
   "metadata": {},
   "outputs": [
    {
     "data": {
      "text/plain": [
       "67"
      ]
     },
     "execution_count": 14,
     "metadata": {},
     "output_type": "execute_result"
    }
   ],
   "source": [
    "from functools import reduce\n",
    "# functools module should  be used to reduce the given situation\n",
    "lis = [3,53,2,5,4]\n",
    "# add the items of the list\n",
    "reduce(lambda a,y:a+y,lis)"
   ]
  },
  {
   "cell_type": "markdown",
   "id": "cfe175bd",
   "metadata": {},
   "source": [
    "##### 2. Write a Python program that uses the `reduce()` function to find the product of all elements in a\n",
    "list"
   ]
  },
  {
   "cell_type": "code",
   "execution_count": 17,
   "id": "9093bf13",
   "metadata": {},
   "outputs": [
    {
     "data": {
      "text/plain": [
       "6360"
      ]
     },
     "execution_count": 17,
     "metadata": {},
     "output_type": "execute_result"
    }
   ],
   "source": [
    "from functools import reduce # write only one time is sufficient \n",
    "lis = [3,53,2,5,4]\n",
    "reduce(lambda a,b : a*b,lis)"
   ]
  },
  {
   "cell_type": "markdown",
   "id": "6be47aef",
   "metadata": {},
   "source": [
    "##### 3. Create a Python program that uses `reduce()` to find the maximum element in a list of numbers.\n"
   ]
  },
  {
   "cell_type": "code",
   "execution_count": 20,
   "id": "5612cf02",
   "metadata": {},
   "outputs": [
    {
     "data": {
      "text/plain": [
       "58"
      ]
     },
     "execution_count": 20,
     "metadata": {},
     "output_type": "execute_result"
    }
   ],
   "source": [
    "lis = [3,53,2,5,4,58,49,7,34,2,3,9]\n",
    "reduce(lambda p,q:p if p>q else q,lis)\n"
   ]
  },
  {
   "cell_type": "markdown",
   "id": "634d8a35",
   "metadata": {},
   "source": [
    "###### to print the second max element in the list"
   ]
  },
  {
   "cell_type": "code",
   "execution_count": 32,
   "id": "c3e562cd",
   "metadata": {},
   "outputs": [
    {
     "data": {
      "text/plain": [
       "53"
      ]
     },
     "execution_count": 32,
     "metadata": {},
     "output_type": "execute_result"
    }
   ],
   "source": [
    "lis = [3,53,2,5,4,58,49,7,34,2,3,9]\n",
    "lis.sort()\n",
    "lis[(len(lis)-2)]"
   ]
  },
  {
   "cell_type": "code",
   "execution_count": null,
   "id": "1ccc14c6",
   "metadata": {},
   "outputs": [],
   "source": []
  },
  {
   "cell_type": "code",
   "execution_count": null,
   "id": "f9e88aea",
   "metadata": {},
   "outputs": [],
   "source": []
  },
  {
   "cell_type": "code",
   "execution_count": null,
   "id": "13d8ee6a",
   "metadata": {},
   "outputs": [],
   "source": []
  }
 ],
 "metadata": {
  "kernelspec": {
   "display_name": "Python 3 (ipykernel)",
   "language": "python",
   "name": "python3"
  },
  "language_info": {
   "codemirror_mode": {
    "name": "ipython",
    "version": 3
   },
   "file_extension": ".py",
   "mimetype": "text/x-python",
   "name": "python",
   "nbconvert_exporter": "python",
   "pygments_lexer": "ipython3",
   "version": "3.11.5"
  }
 },
 "nbformat": 4,
 "nbformat_minor": 5
}
